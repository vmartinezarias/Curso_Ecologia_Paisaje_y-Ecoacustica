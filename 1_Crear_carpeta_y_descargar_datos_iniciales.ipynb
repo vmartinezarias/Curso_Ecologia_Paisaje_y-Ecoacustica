{
  "nbformat": 4,
  "nbformat_minor": 0,
  "metadata": {
    "colab": {
      "provenance": [],
      "authorship_tag": "ABX9TyPld/s2jmfiDFoFYltlV3sF",
      "include_colab_link": true
    },
    "kernelspec": {
      "name": "python3",
      "display_name": "Python 3"
    },
    "language_info": {
      "name": "python"
    }
  },
  "cells": [
    {
      "cell_type": "markdown",
      "metadata": {
        "id": "view-in-github",
        "colab_type": "text"
      },
      "source": [
        "<a href=\"https://colab.research.google.com/github/vmartinezarias/Curso_Ecologia_Paisaje_y-Ecoacustica/blob/main/1_Crear_carpeta_y_descargar_datos_iniciales.ipynb\" target=\"_parent\"><img src=\"https://colab.research.google.com/assets/colab-badge.svg\" alt=\"Open In Colab\"/></a>"
      ]
    },
    {
      "cell_type": "markdown",
      "source": [
        "1. Montar Drive"
      ],
      "metadata": {
        "id": "-gI4Qbx9v4Y2"
      }
    },
    {
      "cell_type": "code",
      "execution_count": null,
      "metadata": {
        "id": "XMXVx84Ov0kI"
      },
      "outputs": [],
      "source": [
        "from google.colab import drive\n",
        "drive.mount('/content/drive')\n"
      ]
    },
    {
      "cell_type": "markdown",
      "source": [
        "2. Obtener archivos del shapfile para la práctica"
      ],
      "metadata": {
        "id": "SiKmOXsgwJEu"
      }
    },
    {
      "cell_type": "code",
      "source": [
        "import os\n",
        "import requests\n",
        "import zipfile\n",
        "\n",
        "# Montar Google Drive\n",
        "from google.colab import drive\n",
        "drive.mount('/content/drive')\n",
        "\n",
        "# Crear la carpeta \"Insumo\" en Google Drive si no existe\n",
        "folder_path = '/content/drive/My Drive/Curso_Ecologia_Paisaje_ecoacustica'\n",
        "if not os.path.exists(folder_path):\n",
        "    os.makedirs(folder_path)\n",
        "    print(f\"Carpeta 'Insumo' creada en Google Drive en {folder_path}\")\n",
        "else:\n",
        "    print(\"La carpeta 'Insumo' ya existe en Google Drive.\")\n",
        "\n",
        "# Enlace directo de Dropbox (asegúrate de que termine en ?dl=1)\n",
        "dropbox_url = 'https://www.dropbox.com/scl/fo/ac3zt4sp7peizd52gunme/AG2i05ynrPulG8iVuoT76ec?rlkey=k66cyyidziidcnalek9yc0djh&st=ywc9gx5w&dl=1'\n",
        "\n",
        "# Nombre temporal del archivo .zip\n",
        "zip_path = os.path.join(folder_path, \"temp_dropbox_content.zip\")\n",
        "\n",
        "# Descargar el archivo .zip desde Dropbox\n",
        "response = requests.get(dropbox_url)\n",
        "if response.status_code == 200:\n",
        "    with open(zip_path, \"wb\") as file:\n",
        "        file.write(response.content)\n",
        "    print(f\"Archivo zip descargado exitosamente en {zip_path}\")\n",
        "else:\n",
        "    print(\"Error al descargar el archivo desde Dropbox.\")\n",
        "\n",
        "# Extraer el contenido del archivo .zip en la carpeta \"Insumo\"\n",
        "try:\n",
        "    with zipfile.ZipFile(zip_path, 'r') as zip_ref:\n",
        "        zip_ref.extractall(folder_path)\n",
        "    print(f\"Contenido extraído en la carpeta 'Insumo'\")\n",
        "except zipfile.BadZipFile:\n",
        "    print(\"Error: el archivo descargado no es un archivo zip válido.\")\n",
        "\n",
        "# Eliminar el archivo zip temporal\n",
        "os.remove(zip_path)\n",
        "print(\"Archivo zip temporal eliminado.\")\n"
      ],
      "metadata": {
        "collapsed": true,
        "id": "EJ171XM3wLqI"
      },
      "execution_count": null,
      "outputs": []
    }
  ]
}