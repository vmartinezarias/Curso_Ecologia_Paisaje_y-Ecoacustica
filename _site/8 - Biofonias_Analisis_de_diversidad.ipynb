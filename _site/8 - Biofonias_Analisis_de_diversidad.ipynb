{
  "nbformat": 4,
  "nbformat_minor": 0,
  "metadata": {
    "colab": {
      "provenance": [],
      "toc_visible": true,
      "authorship_tag": "ABX9TyNfMDxDOJ61VqazySP7CrfI",
      "include_colab_link": true
    },
    "kernelspec": {
      "name": "python3",
      "display_name": "Python 3"
    },
    "language_info": {
      "name": "python"
    }
  },
  "cells": [
    {
      "cell_type": "markdown",
      "metadata": {
        "id": "view-in-github",
        "colab_type": "text"
      },
      "source": [
        "<a href=\"https://colab.research.google.com/github/vmartinezarias/Curso_Ecologia_Paisaje_y-Ecoacustica/blob/main/8%20-%20Biofonias_Analisis_de_diversidad.ipynb\" target=\"_parent\"><img src=\"https://colab.research.google.com/assets/colab-badge.svg\" alt=\"Open In Colab\"/></a>"
      ]
    },
    {
      "cell_type": "markdown",
      "source": [
        "# **INTRODUCCIÓN**"
      ],
      "metadata": {
        "id": "Jy_k6mjzY_xR"
      }
    },
    {
      "cell_type": "markdown",
      "source": [
        "Análisis de diversidad usando números de Hill, utilizando incidencias/frecuencias y CHAO2. Este tipo de análisis es apropiado cuando no se tienen abundancias. Como resultado se generan, Gráficas y tablas."
      ],
      "metadata": {
        "id": "C45xDMt2RW8y"
      }
    },
    {
      "cell_type": "markdown",
      "source": [
        "# 2. Generación del archivo para depósito de datos"
      ],
      "metadata": {
        "id": "ygTzwwtzZQIo"
      }
    },
    {
      "cell_type": "code",
      "execution_count": null,
      "metadata": {
        "id": "WIrjAGkfRVoZ"
      },
      "outputs": [],
      "source": [
        "from openpyxl import Workbook\n",
        "from openpyxl.styles import Font, PatternFill, Alignment\n",
        "from google.colab import drive\n",
        "\n",
        "# Montar Google Drive\n",
        "drive.mount('/content/drive')\n",
        "\n",
        "# Definir la ruta para guardar el archivo Excel\n",
        "file_output_path = \"/content/drive/MyDrive/Curso_Ecologia_Paisaje_Ecoacustica/Labels_Format_empty.xlsx\"\n",
        "\n",
        "# Crear un nuevo archivo Excel\n",
        "wb = Workbook()\n",
        "\n",
        "# -------------------\n",
        "# 1. Hoja \"Vocabulario\" con todos los detalles\n",
        "# -------------------\n",
        "ws_vocabulario = wb.active\n",
        "ws_vocabulario.title = \"Vocabulary\"\n",
        "\n",
        "# Datos completos del vocabulario\n",
        "vocabulario_data = [\n",
        "    [\"Variable\", \"Description\", \"Values\"],\n",
        "    [\"recording_file\", \"Exact file name, without the extension\", \"alfanumerico\"],\n",
        "    [\"site\", \"Sampling site/folder code\", \"alfanumerico\"],\n",
        "    [\"Cover_type\", \"Type of coverage entered manually\", \"Texto\"],\n",
        "    [\"Rec_time\", \"Recording start time\", \"formato tiempo\"],\n",
        "    [\"Label_type\", \"Labeling method\", \"Manual, software\"],\n",
        "    [\"Labeler_LastName\", \"Labeler's last name(s)\", \"Texto\"],\n",
        "    [\"Labeler_FirstName\", \"Labeler's first name(s)\", \"Texto\"],\n",
        "    [\"Labeler_email\", \"Labeler's contact address\", \"alfanumerico\"],\n",
        "    [\"Date\", \"Labeling date\", \"Day-Month-Year\"],\n",
        "    [\"Validation\", \"How the label type was validated\",\n",
        "     \"Manual(single,double), software(software-manual, f1, score, error, media, distance, sens, other)\"],\n",
        "    [\"Validation_Value\", \"Corresponds to the % validation of the test performed\", \"% error, F1 value, other\"],\n",
        "    [\"software\", \"Type of program used for labeling\",\n",
        "     \"Raven, Audacity, Aureas, Kaleidoscope, other, auditory (when listened to)\"],\n",
        "    [\"membership\", \"Degree of certainty/membership to the event given by algorithm or manual labeling uncertainty\", \"0-1\"],\n",
        "    [\"sound_source\", \"Sound source\", \"Biophony, Anthropophony, Geophony\"],\n",
        "    [\"sound_group\", \"Sound group present in the audio\", \"Applies only if it's biophony\"],\n",
        "    [\"sound_event\", \"Type of group presented\",\n",
        "     \"Biophony (Species_genus, genus_sp, morpho_n), Geophony (rain, thunder, wind, water bodies), \"\n",
        "     \"Anthropophony (Vocabulary_anthropophony_geophony), Cover quality (forest, scrubland, grassland, \"\n",
        "     \"high transformation, medium transformation, low transformation, high permanence, medium permanence, low permanence, other)\"],\n",
        "    [\"t_init\", \"Initial time of the sound segment\", \"numeric in seconds\"],\n",
        "    [\"t_end\", \"Final time of the sound segment\", \"numeric in seconds\"],\n",
        "    [\"f_init\", \"Initial frequency of the sound segment\", \"numeric in kHz\"],\n",
        "    [\"f_end\", \"Final frequency of the sound segment\", \"numeric in kHz\"],\n",
        "    [\"f_min\", \"Maximum frequency of the sound segment\", \"numeric in kHz\"],\n",
        "    [\"f_max\", \"Peak frequency of the sound segment\", \"numeric in kHz\"],\n",
        "    [\"f_peak\", \"Minimum frequency of the sound segment\", \"numeric in kHz\"],\n",
        "    [\"n_calls\", \"Number of calls throughout the file\",\n",
        "     \"(use 0 when the specific sound sought was not found) integer numeric\"],\n",
        "    [\"sound_type\", \"Type of sound\",\n",
        "     \"Amphibians (warning call, etc), Birds (Notes, Syllables, Phrases, Song, Calls), bats (types), indet (if it cannot be assigned to any known category)\"],\n",
        "    [\"Possition (bats)\", \"High, medium, low calls\", None],\n",
        "    [\"Comments\", \"Labeler's comments\", None]\n",
        "]\n",
        "\n",
        "# Estilos y colores específicos\n",
        "header_font = Font(bold=True, color=\"FFFFFF\")\n",
        "header_fill = PatternFill(start_color=\"808080\", end_color=\"808080\", fill_type=\"solid\")\n",
        "row_colors = {\n",
        "    \"yellow\": PatternFill(start_color=\"FFFF00\", end_color=\"FFFF00\", fill_type=\"solid\"),\n",
        "    \"pink\": PatternFill(start_color=\"FFC0CB\", end_color=\"FFC0CB\", fill_type=\"solid\"),\n",
        "    \"blue\": PatternFill(start_color=\"00BFFF\", end_color=\"00BFFF\", fill_type=\"solid\"),\n",
        "    \"green\": PatternFill(start_color=\"7CFC00\", end_color=\"7CFC00\", fill_type=\"solid\"),\n",
        "    \"magenta\": PatternFill(start_color=\"FF00FF\", end_color=\"FF00FF\", fill_type=\"solid\")\n",
        "}\n",
        "\n",
        "# Secuencia de colores aplicada según el vocabulario\n",
        "color_sequence = [\n",
        "    \"yellow\", \"yellow\", \"yellow\", \"yellow\", \"pink\", \"pink\", \"pink\", \"pink\", None, None, None, None,\n",
        "    \"yellow\", \"yellow\", \"yellow\", None, None, \"blue\", \"blue\", \"blue\", \"blue\", \"blue\", \"blue\", \"green\",\n",
        "    None, \"magenta\"\n",
        "]\n",
        "\n",
        "# Aplicar datos y colores\n",
        "for row_idx, row in enumerate(vocabulario_data, 1):\n",
        "    for col_idx, value in enumerate(row, 1):\n",
        "        cell = ws_vocabulario.cell(row=row_idx, column=col_idx, value=value)\n",
        "        if row_idx == 1:\n",
        "            cell.font = header_font\n",
        "            cell.fill = header_fill\n",
        "            cell.alignment = Alignment(horizontal=\"center\")\n",
        "        else:\n",
        "            cell.alignment = Alignment(horizontal=\"left\")\n",
        "            color = color_sequence[row_idx - 2] if row_idx - 2 < len(color_sequence) else None\n",
        "            if color and color in row_colors:\n",
        "                cell.fill = row_colors[color]\n",
        "\n",
        "# -------------------\n",
        "# 2. Hoja \"Data\" replicando colores\n",
        "# -------------------\n",
        "ws_datos = wb.create_sheet(\"Data\")\n",
        "\n",
        "# Cabeceras de datos\n",
        "datos_headers = [v[0] for v in vocabulario_data[1:]]\n",
        "\n",
        "# Aplicar cabeceras y estilos\n",
        "for col_idx, header in enumerate(datos_headers, 1):\n",
        "    cell = ws_datos.cell(row=1, column=col_idx, value=header)\n",
        "    cell.font = header_font\n",
        "    cell.fill = header_fill\n",
        "    cell.alignment = Alignment(horizontal=\"center\")\n",
        "\n",
        "# Aplicar colores en \"Data\" correspondientes a \"Vocabulary\"\n",
        "for row_idx in range(2, 22):  # Asumiendo hasta 20 filas de datos\n",
        "    for col_idx, header in enumerate(datos_headers, 1):\n",
        "        cell = ws_datos.cell(row=row_idx, column=col_idx)\n",
        "        color = color_sequence[col_idx - 1] if col_idx - 1 < len(color_sequence) else None\n",
        "        if color and color in row_colors:\n",
        "            cell.fill = row_colors[color]\n",
        "\n",
        "# -------------------\n",
        "# 3. Hoja \"Vocabulary_anthropophony_geophony\"\n",
        "# -------------------\n",
        "ws_vocab_antropo = wb.create_sheet(\"Vocabulary_anthropophony_geophony\")\n",
        "\n",
        "vocab_antropo_data = [\n",
        "    [\"Category\", \"Level_I\", \"Level_II\", \"Comments\"],\n",
        "    [\"Geophony\", \"rain\", None, None],\n",
        "    [\"Geophony\", \"thunder\", None, None],\n",
        "    [\"Geophony\", \"wind\", None, None],\n",
        "    [\"Geophony\", \"water_bodies\", None, None],\n",
        "    [\"Anthropophony\", \"ground_traffic\", \"Car/tractor\", None]\n",
        "]\n",
        "\n",
        "for row_idx, row in enumerate(vocab_antropo_data, 1):\n",
        "    for col_idx, value in enumerate(row, 1):\n",
        "        cell = ws_vocab_antropo.cell(row=row_idx, column=col_idx, value=value)\n",
        "        if row_idx == 1:\n",
        "            cell.font = header_font\n",
        "            cell.fill = header_fill\n",
        "            cell.alignment = Alignment(horizontal=\"center\")\n",
        "        else:\n",
        "            cell.alignment = Alignment(horizontal=\"left\")\n",
        "\n",
        "# -------------------\n",
        "# 4. Hoja \"Observations\"\n",
        "# -------------------\n",
        "ws_observaciones = wb.create_sheet(\"Observations\")\n",
        "\n",
        "observaciones_data = [\n",
        "    [\"Explanations of matrix values\"],\n",
        "    [\"1\"],\n",
        "    [\"2\"],\n",
        "    [\"3\"]\n",
        "]\n",
        "\n",
        "for row_idx, row in enumerate(observaciones_data, 1):\n",
        "    for col_idx, value in enumerate(row, 1):\n",
        "        cell = ws_observaciones.cell(row=row_idx, column=col_idx, value=value)\n",
        "        if row_idx == 1:\n",
        "            cell.font = header_font\n",
        "            cell.fill = header_fill\n",
        "            cell.alignment = Alignment(horizontal=\"center\")\n",
        "        else:\n",
        "            cell.alignment = Alignment(horizontal=\"left\")\n",
        "\n",
        "# Guardar el archivo Excel\n",
        "wb.save(file_output_path)\n",
        "print(f\"Archivo Excel creado en: {file_output_path}\")\n"
      ]
    },
    {
      "cell_type": "markdown",
      "source": [
        "# 3. Cargar datos\n",
        "\n",
        "\n"
      ],
      "metadata": {
        "id": "6dgXOtZbVydU"
      }
    },
    {
      "cell_type": "code",
      "source": [
        "import pandas as pd\n",
        "\n",
        "# Cargar el archivo de Excel desde Google Drive\n",
        "file_path = \"/content/drive/MyDrive/Curso_Ecologia_Paisaje_Ecoacustica/FORMATO_ETIQUETAS.xlsx\"\n",
        "sheet_name = \"Data\"\n",
        "\n",
        "# Leer la hoja \"Data\" del archivo de Excel\n",
        "mis_datos = pd.read_excel(file_path, sheet_name=sheet_name)\n",
        "mis_datos['n_calls'] = pd.to_numeric(mis_datos['n_calls'], errors='coerce')\n",
        "mis_datos.fillna('', inplace=True)  # Llenar valores NaN con cadenas vacías\n",
        "\n",
        "\n",
        "\n"
      ],
      "metadata": {
        "id": "RZJewTxwV2jN"
      },
      "execution_count": null,
      "outputs": []
    },
    {
      "cell_type": "markdown",
      "source": [
        "# 4. Análisis y filtrado de datos\n",
        "\n",
        "\n"
      ],
      "metadata": {
        "id": "lYvNaP5ZXsyb"
      }
    },
    {
      "cell_type": "code",
      "source": [
        "import pandas as pd\n",
        "import plotly.express as px\n",
        "\n",
        "# Cargar el archivo de Excel\n",
        "file_path = \"/content/drive/MyDrive/Curso_Ecologia_Paisaje_Ecoacustica/FORMATO_ETIQUETAS.xlsx\"\n",
        "sheet_name = \"Data\"\n",
        "mis_datos = pd.read_excel(file_path, sheet_name=sheet_name)\n",
        "mis_datos['n_calls'] = pd.to_numeric(mis_datos['n_calls'], errors='coerce')\n",
        "\n",
        "# Opciones de filtrado - especifica las opciones aquí si deseas filtrar\n",
        "cover_type_filter = None   # Reemplaza con el valor deseado o None para no filtrar\n",
        "sound_source_filter = None # Reemplaza con el valor deseado o None para no filtrar\n",
        "group_filter = None        # Reemplaza con el valor deseado o None para no filtrar\n",
        "family_filter = None       # Reemplaza con el valor deseado o None para no filtrar\n",
        "genus_filter = None        # Reemplaza con el valor deseado o None para no filtrar\n",
        "\n",
        "# Filtrar los datos según las opciones especificadas\n",
        "filtered_data = mis_datos.copy()\n",
        "if cover_type_filter:\n",
        "    filtered_data = filtered_data[filtered_data['Cover_type'] == cover_type_filter]\n",
        "if sound_source_filter:\n",
        "    filtered_data = filtered_data[filtered_data['sound_source'] == sound_source_filter]\n",
        "if group_filter:\n",
        "    filtered_data = filtered_data[filtered_data['group'] == group_filter]\n",
        "if family_filter:\n",
        "    filtered_data = filtered_data[filtered_data['Family'] == family_filter]\n",
        "if genus_filter:\n",
        "    filtered_data = filtered_data[filtered_data['Genus'] == genus_filter]\n",
        "\n",
        "# Agrupar y ordenar los datos para la gráfica\n",
        "plot_data = filtered_data.groupby('event')['n_calls'].sum().reset_index()\n",
        "plot_data = plot_data.sort_values(by='n_calls', ascending=False).head(30)\n",
        "\n",
        "# Crear y mostrar el gráfico con nombres inclinados y tamaño ajustado\n",
        "fig = px.bar(plot_data, x='event', y='n_calls', title=\"Número de Llamadas por Taxón / Sonotipo\", text='n_calls')\n",
        "fig.update_traces(texttemplate='%{text:.2s}', textposition='outside')\n",
        "fig.update_layout(\n",
        "    uniformtext_minsize=8,\n",
        "    uniformtext_mode='hide',\n",
        "    xaxis_tickangle=-45,      # Inclina los nombres de las categorías en el eje x\n",
        "    width=1200,               # Ancho del gráfico\n",
        "    height=600,               # Alto del gráfico\n",
        "    margin=dict(t=50, b=150)  # Ajuste de márgenes para dar más espacio a los nombres\n",
        ")\n",
        "fig.show()\n",
        "\n",
        "\n"
      ],
      "metadata": {
        "id": "LG_BuHqdXwPS"
      },
      "execution_count": null,
      "outputs": []
    },
    {
      "cell_type": "markdown",
      "source": [
        "# 5. Generar tablas para iNEXT"
      ],
      "metadata": {
        "id": "eXAqecWajDQT"
      }
    },
    {
      "cell_type": "code",
      "source": [
        "import pandas as pd\n",
        "from datetime import datetime\n",
        "\n",
        "# Cargar el archivo de Excel\n",
        "file_path = \"/content/drive/MyDrive/Curso_Ecologia_Paisaje_Ecoacustica/FORMATO_ETIQUETAS.xlsx\"\n",
        "sheet_name = \"Data\"\n",
        "mis_datos = pd.read_excel(file_path, sheet_name=sheet_name)\n",
        "\n",
        "# Limpiar la columna recording_file y convertir a fecha\n",
        "mis_datos['fecha'] = pd.to_datetime(\n",
        "    mis_datos['recording_file'].str.extract(r'(\\d{8}_\\d{6})')[0], format=\"%Y%m%d_%H%M%S\", errors='coerce'\n",
        ")\n",
        "mis_datos['dia'] = mis_datos['fecha'].dt.day\n",
        "\n",
        "# Filtrar por group == \"Aves\"\n",
        "datos_curva = mis_datos[mis_datos['group'] == \"Aves\"]\n",
        "\n",
        "# Crear un dataframe con conteo de eventos únicos por día y por tipo de cobertura\n",
        "conteo = datos_curva.groupby(['Cover_type', 'dia']).agg(event_count=('event', 'nunique')).reset_index()\n",
        "\n",
        "# Para la categoría total, sumar todos los eventos distintos por día\n",
        "conteo_total = datos_curva.groupby('dia').agg(event_count=('event', 'nunique')).reset_index()\n",
        "conteo_total['Cover_type'] = 'Total'\n",
        "\n",
        "# Unir los conteos específicos de cobertura con el conteo total\n",
        "conteo = pd.concat([conteo, conteo_total], ignore_index=True)\n",
        "\n",
        "# Reordenar el dataframe de forma descendente por la cantidad de eventos\n",
        "conteo = conteo.sort_values(by='event_count', ascending=False)\n",
        "\n",
        "# Crear los vectores para cada tipo de cobertura, incluyendo el total\n",
        "listado_cover = {cover: group['event_count'].tolist() for cover, group in conteo.groupby('Cover_type')}\n",
        "\n",
        "# Inicializar el diccionario que contendrá todos los vectores\n",
        "Comp_inc_freq_ecos = {}\n",
        "\n",
        "# Llenar el diccionario con los vectores, nombrándolos adecuadamente\n",
        "for cover, counts in listado_cover.items():\n",
        "    # Evitar incluir coberturas no deseadas como \"l\" (laguna) automáticamente\n",
        "    if cover.lower() != \"laguna\":  # Excluir \"laguna\" automáticamente\n",
        "        Comp_inc_freq_ecos[cover] = counts\n",
        "\n",
        "# Mostrar el resultado final\n",
        "print(\"Verificar a continuación, si hay uunidades de hábitat que posean menos de 2 registros\")\n",
        "Comp_inc_freq_ecos\n"
      ],
      "metadata": {
        "id": "5DeTx5IqkQ8n"
      },
      "execution_count": null,
      "outputs": []
    },
    {
      "cell_type": "markdown",
      "source": [
        "6. Instalar paquetes de R"
      ],
      "metadata": {
        "id": "gfnVPj8ur3Jo"
      }
    },
    {
      "cell_type": "code",
      "source": [
        "# Ejecuta esto en una celda de código en Colab para instalar las librerías de R\n",
        "!apt-get install -y libcurl4-openssl-dev libssl-dev libxml2-dev\n",
        "!R -e \"install.packages(c('iNEXT', 'ggplot2', 'openxlsx'))\"\n"
      ],
      "metadata": {
        "id": "bTLqeaYKmzri"
      },
      "execution_count": null,
      "outputs": []
    },
    {
      "cell_type": "markdown",
      "source": [
        "7. Llevar incidencias frecuenias a R"
      ],
      "metadata": {
        "id": "XhGCyrOUnU6v"
      }
    },
    {
      "cell_type": "code",
      "source": [
        "# Cargar la biblioteca rpy2 para ejecutar código en R desde Colab\n",
        "%load_ext rpy2.ipython\n",
        "\n",
        "# Paso 1: Verificar y preparar los datos en Python\n",
        "# Asegúrate de que cada elemento en `Comp_inc_freq_ecos` sea una lista de números\n",
        "for habitat, data in Comp_inc_freq_ecos.items():\n",
        "    print(f\"{habitat}: {data[:5]}\")  # Muestra los primeros valores de cada hábitat para verificar\n",
        "\n",
        "# Convertimos `Comp_inc_freq_ecos` a un formato compatible en R\n",
        "import rpy2.robjects as ro\n",
        "from rpy2.robjects import ListVector\n",
        "\n",
        "# Crear una estructura de lista en R\n",
        "Comp_inc_freq_ecos_r = ListVector({k: ro.FloatVector(v) for k, v in Comp_inc_freq_ecos.items()})\n",
        "ro.globalenv['Comp_inc_freq_ecos'] = Comp_inc_freq_ecos_r\n",
        "\n"
      ],
      "metadata": {
        "id": "NbX9h-BpnWRH"
      },
      "execution_count": null,
      "outputs": []
    },
    {
      "cell_type": "markdown",
      "source": [
        "# 8. Análisis inext"
      ],
      "metadata": {
        "id": "GISlJbaOnfSc"
      }
    },
    {
      "cell_type": "code",
      "source": [
        "%%R\n",
        "library(iNEXT)\n",
        "library(ggplot2)\n",
        "library(openxlsx)\n",
        "library(stringr)\n",
        "\n",
        "# Definir el path de salida para guardar el archivo Excel en Google Drive\n",
        "output_excel <- \"/content/drive/MyDrive/Curso_Ecologia_Paisaje_Ecoacustica/Resultados/indices_diversidad.xlsx\"\n",
        "\n",
        "# Valores de q para el análisis de diversidad\n",
        "q_values <- c(0, 1, 2)\n",
        "type_values <- c(1, 2, 3)  # Tipos de gráficos\n",
        "endpoint <- 20  # Unidades de muestreo (días)\n",
        "\n",
        "# Crear archivo Excel para guardar resultados\n",
        "wb <- createWorkbook()\n",
        "\n",
        "# Títulos de los gráficos para cada valor de q\n",
        "titles <- c(\"Riqueza de Especies Total: Conteo de Presencia\",\n",
        "            \"Diversidad de Especies Ponderada por Frecuencia de Ocurrencia\",\n",
        "            \"Dominancia de Especies Comunes en Sitios de Muestreo\")\n",
        "\n",
        "# Realizar el análisis de iNEXT para cada valor de q y generar gráficos\n",
        "for (q in q_values) {\n",
        "  # Realizar el análisis iNEXT\n",
        "  out.incS <- iNEXT(Comp_inc_freq_ecos, q=q, datatype=\"incidence_freq\", se=TRUE, conf=0.95, endpoint=endpoint)\n",
        "\n",
        "  # Guardar resultados en el archivo Excel\n",
        "  addWorksheet(wb, paste(\"Estimaciones_q\", q, sep=\"\"))\n",
        "  writeData(wb, paste(\"Estimaciones_q\", q, sep=\"\"), out.incS$AsyEst)\n",
        "  addWorksheet(wb, paste(\"Observaciones_q\", q, sep=\"\"))\n",
        "  writeData(wb, paste(\"Observaciones_q\", q, sep=\"\"), out.incS$DataInfo)\n",
        "\n",
        "  # Generar y mostrar gráficos para cada tipo de gráfico\n",
        "  for (type in type_values) {\n",
        "    plot_title <- titles[q + 1]\n",
        "\n",
        "    # Generar el gráfico\n",
        "    g <- ggiNEXT(out.incS, type=type, se=TRUE, facet.var=\"Assemblage\", grey=TRUE) +\n",
        "      theme_bw() +\n",
        "      labs(x = \"Días de muestreo\", y = \"Especies\", title = plot_title) +\n",
        "      theme(legend.position = \"none\") +\n",
        "      theme(strip.text.x = element_text(size = 12, face=\"bold\", color=\"black\")) +\n",
        "      theme(strip.text.x = element_text(size = 10),\n",
        "            strip.background = element_rect(fill = \"lightgrey\", color = \"black\")) +\n",
        "      theme(plot.margin = unit(c(1, 1, 1, 1), \"cm\")) +\n",
        "      facet_wrap(~ str_wrap(Assemblage, width = 15), scales = \"free_x\", ncol = 3)  # Ajuste del texto a dos líneas\n",
        "\n",
        "    # Mostrar el gráfico en Colab\n",
        "    print(g)\n",
        "  }\n",
        "}\n",
        "\n",
        "# Guardar el archivo Excel en Google Drive\n",
        "saveWorkbook(wb, output_excel, overwrite = TRUE)\n",
        "cat(\"Archivo Excel guardado en:\", output_excel)\n",
        "\n"
      ],
      "metadata": {
        "id": "w0IZ0BsXng1S"
      },
      "execution_count": null,
      "outputs": []
    }
  ]
}