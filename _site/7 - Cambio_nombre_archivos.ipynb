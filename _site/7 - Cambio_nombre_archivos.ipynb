{
  "nbformat": 4,
  "nbformat_minor": 0,
  "metadata": {
    "colab": {
      "provenance": [],
      "toc_visible": true,
      "authorship_tag": "ABX9TyNh3dbxfF2Yy7gIL5IWYqKV",
      "include_colab_link": true
    },
    "kernelspec": {
      "name": "python3",
      "display_name": "Python 3"
    },
    "language_info": {
      "name": "python"
    }
  },
  "cells": [
    {
      "cell_type": "markdown",
      "metadata": {
        "id": "view-in-github",
        "colab_type": "text"
      },
      "source": [
        "<a href=\"https://colab.research.google.com/github/vmartinezarias/Curso_Ecologia_Paisaje_y-Ecoacustica/blob/main/7%20-%20Cambio_nombre_archivos.ipynb\" target=\"_parent\"><img src=\"https://colab.research.google.com/assets/colab-badge.svg\" alt=\"Open In Colab\"/></a>"
      ]
    },
    {
      "cell_type": "markdown",
      "source": [
        "# PROCESAMIENTO ECOACÚSTICA"
      ],
      "metadata": {
        "id": "p2uuGfsmqMS7"
      }
    },
    {
      "cell_type": "markdown",
      "source": [
        "## CAMBIO DE NOMBRE DE LOS ARCHIVOS\n",
        "Dado que en el nombre original de las grabaciones no se distingue el punto de muestreo, se debe modificar el nombre del archivo para que este empiece por el nombre de la carpeta en la cual está ubicado, la cual corresponde al ID del sitio de muestreo, y de esta forma cada archivo tendrá un nombre único\n",
        "\n",
        "Se deben tener los audios en una carpeta principal, que contiene subcarpetas nombradas con el sitio de muestreo. Este código, no genera nuevos archivos, sino que cambia el nombre de los que ya se encuentran.\n",
        "\n",
        "NOTA: ESTA PARTE NO ES DESARROLLADA EN EL CURSO, DEBIDO A QUE LOS ARCHIVOS SE ENCUENTRAN EN UNA UBICACIÓN REMOTA.\n"
      ],
      "metadata": {
        "id": "K_-V9WvhqLon"
      }
    },
    {
      "cell_type": "code",
      "execution_count": null,
      "metadata": {
        "id": "OKrGaqe7p2un"
      },
      "outputs": [],
      "source": [
        "import os\n",
        "from google.colab import drive\n",
        "\n",
        "# Montar Google Drive\n",
        "#drive.mount('/content/drive')  ## Desactivado por el curso\n",
        "\n",
        "# Definir el directorio raíz en Google Drive\n",
        "root_dir = \"/content/drive/MyDrive/CursoPaisajeAudios\"  # Cambia esta ruta según tu estructura en Drive\n",
        "\n",
        "# Iterar sobre cada carpeta y subcarpeta en el directorio raíz\n",
        "for subdir, dirs, files in os.walk(root_dir):\n",
        "    for file in files:\n",
        "        # Evita renombrar archivos que ya tienen el formato deseado\n",
        "        if not file.startswith(\"Curso\"):\n",
        "            # Construye la ruta completa al archivo actual\n",
        "            old_file_path = os.path.join(subdir, file)\n",
        "            # Extraer el nombre de la carpeta\n",
        "            folder_name = os.path.basename(subdir)\n",
        "            # Construye el nuevo nombre del archivo\n",
        "            new_file_name = f\"Curso{folder_name}_{file}\"\n",
        "            # Construye la ruta completa al nuevo archivo\n",
        "            new_file_path = os.path.join(subdir, new_file_name)\n",
        "            # Renombra el archivo\n",
        "            os.rename(old_file_path, new_file_path)\n",
        "            print(f\"Renombrado: '{old_file_path}' a '{new_file_path}'\")"
      ]
    }
  ]
}