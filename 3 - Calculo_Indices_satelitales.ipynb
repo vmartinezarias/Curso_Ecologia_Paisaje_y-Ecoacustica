{
  "nbformat": 4,
  "nbformat_minor": 0,
  "metadata": {
    "colab": {
      "provenance": [],
      "toc_visible": true,
      "authorship_tag": "ABX9TyNWn3ZkCRdqdbb5p+k8YIIE",
      "include_colab_link": true
    },
    "kernelspec": {
      "name": "python3",
      "display_name": "Python 3"
    },
    "language_info": {
      "name": "python"
    }
  },
  "cells": [
    {
      "cell_type": "markdown",
      "metadata": {
        "id": "view-in-github",
        "colab_type": "text"
      },
      "source": [
        "<a href=\"https://colab.research.google.com/github/vmartinezarias/Curso_Ecologia_Paisaje_y-Ecoacustica/blob/main/3%20-%20Calculo_Indices_satelitales.ipynb\" target=\"_parent\"><img src=\"https://colab.research.google.com/assets/colab-badge.svg\" alt=\"Open In Colab\"/></a>"
      ]
    },
    {
      "cell_type": "markdown",
      "source": [
        "# Obtención de índices Satelitales\n"
      ],
      "metadata": {
        "id": "ogDuGTAvMqFK"
      }
    },
    {
      "cell_type": "markdown",
      "source": [
        "## Importar las bibliotecas necesarias"
      ],
      "metadata": {
        "id": "qQlxB9YHNoKi"
      }
    },
    {
      "cell_type": "code",
      "source": [
        "import ee\n",
        "import geemap\n",
        "import geopandas as gpd\n",
        "from google.colab import drive"
      ],
      "metadata": {
        "id": "22VjB-78NocG"
      },
      "execution_count": null,
      "outputs": []
    },
    {
      "cell_type": "markdown",
      "source": [
        "## Autenticar y inicializar Earth Engine, Montar drive y obtener área de estudio\n"
      ],
      "metadata": {
        "id": "2-bCLEYjN7W0"
      }
    },
    {
      "cell_type": "code",
      "source": [
        "# Autenticar y inicializar Earth Engine\n",
        "ee.Authenticate()\n",
        "ee.Initialize(project='ee-vmanuelmartinez')\n",
        "\n",
        "# Montar Google Drive para acceder a los archivos\n",
        "drive.mount('/content/drive')\n",
        "\n",
        "# Cargar la región de interés (ROI) desde un archivo .shp usando geopandas\n",
        "roi_path = '/content/drive/MyDrive/Curso_Ecologia_Paisaje_Ecoacustica/Area_Estudio.shp'\n",
        "roi_gdf = gpd.read_file(roi_path)\n",
        "roi = geemap.geopandas_to_ee(roi_gdf)"
      ],
      "metadata": {
        "id": "GBVLkwNxO9Dk"
      },
      "execution_count": null,
      "outputs": []
    },
    {
      "cell_type": "markdown",
      "source": [
        "## Definir parámetros para búsqueda de imágenes de Sentinel-2A\n",
        "\n",
        "El formato de fecha es YYYY-MM-DD\n",
        "También es define el umbral (porcentaje) de nubes permitidas"
      ],
      "metadata": {
        "id": "UWJGwdhzPC6h"
      }
    },
    {
      "cell_type": "code",
      "source": [
        "start_date = '2023-01-01'\n",
        "end_date = '2023-07-31'\n",
        "cloud_threshold = 10"
      ],
      "metadata": {
        "id": "4w9ru3iwPdOj"
      },
      "execution_count": null,
      "outputs": []
    },
    {
      "cell_type": "markdown",
      "source": [
        "## Obtener Sentinel-2\n",
        "Aquí se usa quality mosaic para seleccionar los datos de Sentinel."
      ],
      "metadata": {
        "id": "kd4SjTdCPbkY"
      }
    },
    {
      "cell_type": "code",
      "source": [
        "# Crear colección de imágenes Sentinel-2 filtrada por fecha, ROI y porcentaje de nubes\n",
        "S2 = (ee.ImageCollection(\"COPERNICUS/S2_SR_HARMONIZED\")\n",
        "      .filterDate(start_date, end_date)\n",
        "      .filterBounds(roi)\n",
        "      .filterMetadata(\"CLOUDY_PIXEL_PERCENTAGE\", \"less_than\", cloud_threshold))\n",
        "\n",
        "# Calcular NDVI y agregarlo como banda a la colección\n",
        "S2_with_ndvi = S2.map(lambda image: image.addBands(image.normalizedDifference(['B8', 'B4']).rename('NDVI')))\n",
        "quality_mosaic = S2_with_ndvi.qualityMosaic('NDVI').clip(roi)\n",
        "final_mosaic_rgb = quality_mosaic.select([\"B4\", \"B3\", \"B2\"])\n",
        "\n",
        "# Configuraciones de visualización basadas en tus especificaciones en QGIS\n",
        "vis_sentinel = {\"min\": 143, \"max\": 2166, \"bands\": [\"B4\", \"B3\", \"B2\"]}\n",
        "vis_mndwi = {\"min\": -0.86564, \"max\": 0.332712, \"palette\": ['blue', 'white', 'green']}\n",
        "vis_ndmi = {\"min\": -0.534972, \"max\": 0.620737, \"palette\": ['brown', 'white', 'green']}\n",
        "vis_slavi = {\"min\": 0.2830355, \"max\": 2.1009374, \"palette\": ['lightyellow', 'darkgreen']}\n",
        "vis_ndvi = {\"min\": -0.0801394, \"max\": 0.9122024, \"palette\": ['purple', 'blue', 'green', 'yellow']}\n",
        "vis_brillo = {\"min\": 751.2558, \"max\": 13024.252, \"palette\": ['white', 'black']}\n",
        "\n",
        "# Crear el mapa y añadir las capas configuradas\n",
        "Map = geemap.Map()\n",
        "Map.centerObject(roi, 10)\n",
        "Map.addLayer(final_mosaic_rgb, vis_sentinel, \"Sentinel2\")"
      ],
      "metadata": {
        "id": "tZFgvnFNP2zO"
      },
      "execution_count": null,
      "outputs": []
    },
    {
      "cell_type": "markdown",
      "source": [
        "## Cálculo y exportación de índices espectrales\n",
        "Consultar indexdatabase.de para información concernietne a los índices.\n",
        "En este caso se calculan: NDVI, SLAVI, MNDWI, NDMI, Brillo.\n",
        "\n",
        "El CRS es 32618.\n",
        "\n",
        "Los índices son ubicados en el DRIVE."
      ],
      "metadata": {
        "id": "LwwiTocvP542"
      }
    },
    {
      "cell_type": "code",
      "source": [
        "# Calcular y añadir los índices, asegurando el recorte al ROI\n",
        "MNDWI = quality_mosaic.normalizedDifference(['B3', 'B11']).rename('MNDWI').clip(roi)\n",
        "NDMI = quality_mosaic.normalizedDifference(['B8', 'B11']).rename('NDMI').clip(roi)\n",
        "SLAVI = quality_mosaic.expression(\"(NIR) / (RE1 + SWIR2)\", {\n",
        "    \"NIR\": quality_mosaic.select('B8A'),\n",
        "    \"RE1\": quality_mosaic.select('B5'),\n",
        "    \"SWIR2\": quality_mosaic.select('B11')\n",
        "}).rename('SLAVI').clip(roi)\n",
        "NDVI = quality_mosaic.normalizedDifference(['B8', 'B4']).rename('NDVI').clip(roi)\n",
        "Brillo = quality_mosaic.expression(\n",
        "    \"0.3037 * B + 0.2793 * G + 0.4743 * R + 0.5585 * NIR + 0.5082 * WV + 0.1863 * SWIR\", {\n",
        "        \"B\": quality_mosaic.select('B2'),\n",
        "        \"G\": quality_mosaic.select('B3'),\n",
        "        \"R\": quality_mosaic.select('B4'),\n",
        "        \"NIR\": quality_mosaic.select('B8'),\n",
        "        \"WV\": quality_mosaic.select('B9'),\n",
        "        \"SWIR\": quality_mosaic.select('B11')\n",
        "    }).rename('Brillo').clip(roi)\n",
        "\n",
        "# Añadir las capas al mapa con las configuraciones de visualización\n",
        "Map.addLayer(MNDWI, vis_mndwi, \"MNDWI\")\n",
        "Map.addLayer(NDMI, vis_ndmi, \"NDMI\")\n",
        "Map.addLayer(SLAVI, vis_slavi, \"SLAVI\")\n",
        "Map.addLayer(NDVI, vis_ndvi, \"NDVI\")\n",
        "Map.addLayer(Brillo, vis_brillo, \"Brillo\")\n",
        "\n",
        "# Proyección deseada: EPSG:32618\n",
        "projection = 'EPSG:32618'\n",
        "scale = 10\n",
        "\n",
        "# Exportar las imágenes a Google Drive, recortadas al ROI y con proyección EPSG:32618\n",
        "exports = {\n",
        "    \"MNDWI\": MNDWI,\n",
        "    \"NDMI\": NDMI,\n",
        "    \"SLAVI\": SLAVI,\n",
        "    \"NDVI\": NDVI,\n",
        "    \"Brillo\": Brillo,\n",
        "    \"Sentinel\": final_mosaic_rgb\n",
        "}\n",
        "\n",
        "for name, image in exports.items():\n",
        "    task = ee.batch.Export.image.toDrive(\n",
        "        image=image.reproject(crs=projection, scale=scale),  # Aplicar la proyección deseada\n",
        "        description=name,\n",
        "        folder='Curso_Ecologia_Paisaje_Ecoacustica',\n",
        "        fileNamePrefix=name,\n",
        "        region=roi.geometry(),\n",
        "        scale=scale,\n",
        "        maxPixels=1e13\n",
        "    )\n",
        "    task.start()\n",
        "    print(f\"Exportando {name} a Google Drive.\")\n",
        "\n",
        "# Mostrar el mapa\n",
        "Map\n"
      ],
      "metadata": {
        "id": "-o08z52lMoRd"
      },
      "execution_count": null,
      "outputs": []
    },
    {
      "cell_type": "code",
      "source": [],
      "metadata": {
        "id": "zsjH4HJKI02e"
      },
      "execution_count": null,
      "outputs": []
    }
  ]
}