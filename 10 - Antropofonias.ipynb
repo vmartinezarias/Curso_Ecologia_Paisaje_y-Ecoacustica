{
  "nbformat": 4,
  "nbformat_minor": 0,
  "metadata": {
    "colab": {
      "provenance": [],
      "toc_visible": true,
      "include_colab_link": true
    },
    "kernelspec": {
      "name": "python3",
      "display_name": "Python 3"
    },
    "language_info": {
      "name": "python"
    }
  },
  "cells": [
    {
      "cell_type": "markdown",
      "metadata": {
        "id": "view-in-github",
        "colab_type": "text"
      },
      "source": [
        "<a href=\"https://colab.research.google.com/github/vmartinezarias/Curso_Ecologia_Paisaje_y-Ecoacustica/blob/main/10%20-%20Antropofonias.ipynb\" target=\"_parent\"><img src=\"https://colab.research.google.com/assets/colab-badge.svg\" alt=\"Open In Colab\"/></a>"
      ]
    },
    {
      "cell_type": "markdown",
      "source": [
        "# Análisis de Antropofonías\n",
        "\n",
        "Este análisis se basa en la caracterización de Antropofonías mediante el uso de los niveles de presión sonora (SPL). El análisis consiste de tres partes: Generación de gráficas, comparación bio vs anthro, generación del excel con los datos finales.\n",
        "\n",
        "Este algoritmo se basa en lo publicado por Ulloa et al.\n",
        "\n",
        "https://scikit-maad.github.io/install.html\n",
        "\n",
        "\n",
        "El nivel de presión sonora (SPL) es una métrica fundamental en acústica que mide la intensidad de las ondas sonoras, expresada en decibelios (dB). En ecoacústica, el SPL se utiliza para evaluar la energía acústica en un paisaje sonoro, permitiendo identificar contribuciones de fuentes como la biofonía (sonidos biológicos), antropofonía (sonidos humanos) y geofonía (sonidos ambientales). Al calcular el SPL en bandas de frecuencia específicas, se pueden analizar patrones temporales y espaciales de actividad acústica, lo que lo convierte en una herramienta clave para monitorear la biodiversidad, evaluar el impacto del ruido humano y estudiar las condiciones ambientales de un ecosistema.\n",
        "\n",
        "El SPL es una métrica energética que permite inferir la intensidad y tipo de actividad sonora en un área. Valores altos en bandas biofónicas suelen reflejar mayor actividad biológica, mientras que SPL altos en bandas antropofónicas pueden indicar contaminación sonora. Esta métrica se usa ampliamente para monitorear la biodiversidad, caracterizar paisajes sonoros y evaluar cambios en respuesta a disturbios ambientales, convirtiéndolo en un indicador esencial en estudios de ecoacústica."
      ],
      "metadata": {
        "id": "J4O7une7Pxs9"
      }
    },
    {
      "cell_type": "markdown",
      "source": [
        "## Instalar paquetes requeridos"
      ],
      "metadata": {
        "id": "0EhDAN__QJfK"
      }
    },
    {
      "cell_type": "code",
      "source": [
        "!pip install scikit-maad"
      ],
      "metadata": {
        "id": "DwuX8817RvXw"
      },
      "execution_count": null,
      "outputs": []
    },
    {
      "cell_type": "markdown",
      "source": [
        "## Generación de gráficas\n"
      ],
      "metadata": {
        "id": "IA0p9XEARvBu"
      }
    },
    {
      "cell_type": "markdown",
      "source": [
        "### Importe de paquetes y enlace con Drive"
      ],
      "metadata": {
        "id": "T1f_xpJfTHbM"
      }
    },
    {
      "cell_type": "code",
      "source": [
        "import glob\n",
        "import os\n",
        "import numpy as np\n",
        "import pandas as pd\n",
        "import seaborn as sns\n",
        "import matplotlib.pyplot as plt\n",
        "from maad import sound, util, spl\n",
        "import concurrent.futures\n",
        "import time\n",
        "from google.colab import drive\n",
        "\n",
        "# Montar Google Drive\n",
        "drive.mount('/content/drive')"
      ],
      "metadata": {
        "id": "m40tCdHOTKTQ"
      },
      "execution_count": null,
      "outputs": []
    },
    {
      "cell_type": "markdown",
      "source": [
        "### Configuraciones iniciales"
      ],
      "metadata": {
        "id": "o12OIBbUTLzg"
      }
    },
    {
      "cell_type": "code",
      "source": [
        "# Configuraciones iniciales\n",
        "input_path = '/content/drive/MyDrive/Curso_Ecologia_Paisaje_Ecoacustica/Audios_SinLluvia'\n",
        "output_path = '/content/drive/MyDrive/Curso_Ecologia_Paisaje_Ecoacustica/Resultados_SPL'\n",
        "batch_size = 40\n",
        "prefix = \"CursoEcolPasEcoac_\"  # Prefijo para las gráficas\n",
        "\n",
        "# Parámetros (los que están aquí son los de AUDIOMOTH sensu Ulloa)\n",
        "S = -18\n",
        "G = 16\n",
        "VADC = 2\n",
        "\n",
        "# Bandas de frecuencia\n",
        "frequency_bands = [\n",
        "    (0, 1000), (1000, 2000), (2000, 3000), (3000, 4000),\n",
        "    (4000, 5000), (5000, 6000), (6000, 7000), (7000, 8000),\n",
        "    (8000, 9000), (9000, 10000), (10000, 11000), (11000, 12000)\n",
        "]"
      ],
      "metadata": {
        "id": "pzONz88STT3y"
      },
      "execution_count": null,
      "outputs": []
    },
    {
      "cell_type": "markdown",
      "source": [
        "### Ejecutar algoritmo y generar gráficas SPL"
      ],
      "metadata": {
        "id": "KPfaS3ytTwZZ"
      }
    },
    {
      "cell_type": "code",
      "execution_count": null,
      "metadata": {
        "id": "Xa9IXWHAPmbD"
      },
      "outputs": [],
      "source": [
        "# Crear el directorio de salida si no existe\n",
        "if not os.path.exists(output_path):\n",
        "    os.makedirs(output_path)\n",
        "\n",
        "def process_audio_file(fname):\n",
        "    \"\"\"Procesa un archivo de audio y calcula el SPL promedio por bandas de frecuencia.\"\"\"\n",
        "    try:\n",
        "        wave, fs = sound.load(fname, channel='left', detrend=True)\n",
        "        Sxx_power, _, fn, _ = sound.spectrogram(wave, fs, window='hann', nperseg=1024, noverlap=512 // 2)\n",
        "        mean_PSD = np.mean(Sxx_power, axis=1)\n",
        "\n",
        "        leq_bands = [\n",
        "            spl.psd2leq(mean_PSD[util.index_bw(fn, band)], gain=G, sensitivity=S, Vadc=VADC)\n",
        "            for band in frequency_bands\n",
        "        ]\n",
        "\n",
        "        basename = os.path.basename(fname)\n",
        "        time_str = basename.split('_')[2].split('.')[0]\n",
        "        hour = int(time_str[:2])\n",
        "\n",
        "        return leq_bands, hour\n",
        "    except Exception as e:\n",
        "        print(f\"Error processing file {fname}: {e}\")\n",
        "        return None\n",
        "\n",
        "def process_batch(flist):\n",
        "    \"\"\"Procesa un lote de archivos en paralelo.\"\"\"\n",
        "    with concurrent.futures.ThreadPoolExecutor() as executor:\n",
        "        results = list(executor.map(process_audio_file, flist))\n",
        "    return results\n",
        "\n",
        "def generate_spl_for_subfolder(subfolder_path, subfolder_name):\n",
        "    \"\"\"Genera SPL promedio por hora para una subcarpeta y guarda una gráfica de calor.\"\"\"\n",
        "    flist = glob.glob(subfolder_path + '*.WAV')\n",
        "    flist.sort()\n",
        "\n",
        "    spl_data = {hour: [] for hour in range(24)}\n",
        "\n",
        "    for i in range(0, len(flist), batch_size):\n",
        "        batch_files = flist[i:i + batch_size]\n",
        "        batch_results = process_batch(batch_files)\n",
        "\n",
        "        for result in batch_results:\n",
        "            if result is not None:\n",
        "                leq_bands, hour = result\n",
        "                spl_data[hour].append(leq_bands)\n",
        "\n",
        "    hourly_avg_spl = {\n",
        "        hour: np.nanmean(values, axis=0).tolist() if values else [np.nan] * len(frequency_bands)\n",
        "        for hour, values in spl_data.items()\n",
        "    }\n",
        "\n",
        "    # Crear un DataFrame con los resultados\n",
        "    df_hourly_avg_spl = pd.DataFrame(hourly_avg_spl, index=[f\"{fmin}-{fmax}Hz\" for fmin, fmax in frequency_bands])\n",
        "    df_hourly_avg_spl = df_hourly_avg_spl.iloc[::-1]\n",
        "    df_hourly_avg_spl.replace([None, []], np.nan, inplace=True)\n",
        "\n",
        "    # Graficar el heatmap\n",
        "    plt.figure(figsize=(15, 5))\n",
        "    sns.heatmap(df_hourly_avg_spl.astype(float), cmap='RdPu', annot=True, fmt=\".1f\")\n",
        "    plt.title(f'{prefix}{subfolder_name} - Promedio de nivel de presión sonora (dB SPL) por banda de frecuencia')\n",
        "    plt.xlabel('Hora del día')\n",
        "    plt.ylabel('Banda de frecuencia (Hz)')\n",
        "    plt.xticks(ticks=np.arange(24), labels=[f\"{hour}:00\" for hour in range(24)])\n",
        "    plt.yticks(rotation=0)\n",
        "    plt.tight_layout()\n",
        "\n",
        "    # Guardar la gráfica en el directorio de salida\n",
        "    output_file = os.path.join(output_path, f'{prefix}_{subfolder_name}_SPL_heatmap_S-18G16.png')\n",
        "    plt.savefig(output_file)\n",
        "    plt.close()\n",
        "\n",
        "    print(f\"Gráfica guardada en: {output_file}\")\n",
        "    return df_hourly_avg_spl\n",
        "\n",
        "if __name__ == \"__main__\":\n",
        "    start_time = time.time()\n",
        "    for root, dirs, _ in os.walk(input_path):\n",
        "        for dir in dirs:\n",
        "            subfolder_path = os.path.join(root, dir) + '/'\n",
        "            generate_spl_for_subfolder(subfolder_path, dir)\n",
        "    print(f\"Tiempo de ejecución: {time.time() - start_time} segundos.\")\n"
      ]
    },
    {
      "cell_type": "markdown",
      "source": [
        "## Comparación bandas Bio vs Antro"
      ],
      "metadata": {
        "id": "JvXvgKQKT7iY"
      }
    },
    {
      "cell_type": "markdown",
      "source": [
        "### Carga de paquetes"
      ],
      "metadata": {
        "id": "52woLpSfUd2z"
      }
    },
    {
      "cell_type": "code",
      "source": [
        "import glob\n",
        "import os\n",
        "import numpy as np\n",
        "import pandas as pd\n",
        "import seaborn as sns\n",
        "import matplotlib.pyplot as plt\n",
        "from maad import sound, util, spl\n",
        "import concurrent.futures\n",
        "import time\n",
        "# Montar Google Drive\n",
        "drive.mount('/content/drive')"
      ],
      "metadata": {
        "id": "rlnypwoxUaZL"
      },
      "execution_count": null,
      "outputs": []
    },
    {
      "cell_type": "markdown",
      "source": [
        "### Configuraciones iniciales"
      ],
      "metadata": {
        "id": "TfI2nj6HUgQ6"
      }
    },
    {
      "cell_type": "code",
      "source": [
        "# Configuraciones iniciales\n",
        "input_path = '/content/drive/MyDrive/Curso_Ecologia_Paisaje_Ecoacustica/Audios_SinLluvia'\n",
        "output_path = '/content/drive/MyDrive/Curso_Ecologia_Paisaje_Ecoacustica/Resultados_SPL'\n",
        "batch_size = 40\n",
        "prefix = \"CursoEcolPasEcoac_\"  # Prefijo para las gráficas\n",
        "\n",
        "# Parámetros (los que están aquí son los de AUDIOMOTH sensu Ulloa)\n",
        "S = -18\n",
        "G = 16\n",
        "VADC = 2\n",
        "\n",
        "# Bandas de frecuencia\n",
        "frequency_bands = [\n",
        "    (0, 1000), (1000, 2000), (2000, 3000), (3000, 4000),\n",
        "    (4000, 5000), (5000, 6000), (6000, 7000), (7000, 8000),\n",
        "    (8000, 9000), (9000, 10000), (10000, 11000), (11000, 12000)\n",
        "]"
      ],
      "metadata": {
        "id": "ygoDDgcZUjBe"
      },
      "execution_count": null,
      "outputs": []
    },
    {
      "cell_type": "markdown",
      "source": [
        "### Ejecución del algoritmo"
      ],
      "metadata": {
        "id": "ROCYhLI-VEqu"
      }
    },
    {
      "cell_type": "code",
      "source": [
        "# Crear el directorio de salida si no existe\n",
        "if not os.path.exists(output_path):\n",
        "    os.makedirs(output_path)\n",
        "\n",
        "def process_audio_file(fname):\n",
        "    \"\"\"Procesa un archivo WAV y calcula los SPL por banda de frecuencia con manejo de errores.\"\"\"\n",
        "    try:\n",
        "        wave, fs = sound.load(fname, channel='left', detrend=True)\n",
        "        Sxx_power, _, fn, _ = sound.spectrogram(wave, fs, window='hann', nperseg=1024, noverlap=512 // 2)\n",
        "        mean_PSD = np.mean(Sxx_power, axis=1)\n",
        "\n",
        "        leq_bands = [\n",
        "            spl.psd2leq(mean_PSD[util.index_bw(fn, band)], gain=G, sensitivity=S, Vadc=VADC)\n",
        "            for band in frequency_bands\n",
        "        ]\n",
        "\n",
        "        basename = os.path.basename(fname)\n",
        "        time_str = basename.split('_')[2].split('.')[0]\n",
        "        hour = int(time_str[:2])\n",
        "\n",
        "        return leq_bands, hour\n",
        "    except Exception as e:\n",
        "        print(f\"Error processing file {fname}: {e}\")\n",
        "        return None\n",
        "\n",
        "def process_batch(flist):\n",
        "    \"\"\"Procesa un lote de archivos en paralelo.\"\"\"\n",
        "    with concurrent.futures.ThreadPoolExecutor() as executor:\n",
        "        results = list(executor.map(process_audio_file, flist))\n",
        "    return results\n",
        "\n",
        "def generate_spl_for_subfolder(subfolder_path, subfolder_name):\n",
        "    \"\"\"Genera SPL promedio por hora para una subcarpeta y crea gráficos comparativos.\"\"\"\n",
        "    flist = glob.glob(subfolder_path + '*.WAV')\n",
        "    flist.sort()\n",
        "\n",
        "    spl_data = {hour: [] for hour in range(24)}\n",
        "\n",
        "    for i in range(0, len(flist), batch_size):\n",
        "        batch_files = flist[i:i + batch_size]\n",
        "        batch_results = process_batch(batch_files)\n",
        "\n",
        "        for result in batch_results:\n",
        "            if result is not None:\n",
        "                leq_bands, hour = result\n",
        "                spl_data[hour].append(leq_bands)\n",
        "\n",
        "    hourly_avg_spl = {\n",
        "        hour: np.nanmean(values, axis=0).tolist() if values else [np.nan] * len(frequency_bands)\n",
        "        for hour, values in spl_data.items()\n",
        "    }\n",
        "\n",
        "    # Crear un DataFrame con los resultados\n",
        "    df_hourly_avg_spl = pd.DataFrame(hourly_avg_spl, index=[f\"{fmin}-{fmax}Hz\" for fmin, fmax in frequency_bands])\n",
        "    df_hourly_avg_spl = df_hourly_avg_spl.iloc[::-1]\n",
        "\n",
        "    # Calcular Antropofonía (0-1000 Hz) y Biofonía (media de 1000-12000 Hz)\n",
        "    anthropophony = df_hourly_avg_spl.loc['0-1000Hz'].astype(float)\n",
        "    biophony = df_hourly_avg_spl.loc['1000-2000Hz':].astype(float).mean()\n",
        "\n",
        "    # Crear gráfica comparativa\n",
        "    plt.figure(figsize=[7, 4])\n",
        "    plt.plot(anthropophony.index, anthropophony.values, label='Antropofonía')\n",
        "    plt.plot(biophony.index, biophony.values, label='Biofonía')\n",
        "    plt.xlabel('Hora')\n",
        "    plt.ylabel('Nivel de presión sonora (dB SPL)')\n",
        "    plt.legend()\n",
        "    plt.title(f'{prefix}{subfolder_name} - Comparación de SPL entre bandas de Antropofonía y Biofonía')\n",
        "    plt.tight_layout()\n",
        "\n",
        "    # Guardar la gráfica\n",
        "    output_file = os.path.join(output_path, f'{prefix}_{subfolder_name}_Anthropophony_vs_Biophony_S-18G16.png')\n",
        "    plt.savefig(output_file)\n",
        "    plt.close()\n",
        "\n",
        "    print(f\"Gráfica guardada en: {output_file}\")\n",
        "    return df_hourly_avg_spl\n",
        "\n",
        "if __name__ == \"__main__\":\n",
        "    start_time = time.time()\n",
        "    for root, dirs, _ in os.walk(input_path):\n",
        "        for dir in dirs:\n",
        "            subfolder_path = os.path.join(root, dir) + '/'\n",
        "            generate_spl_for_subfolder(subfolder_path, dir)\n",
        "    print(f\"Tiempo de ejecución: {time.time() - start_time} segundos.\")"
      ],
      "metadata": {
        "id": "Ktkxfo36VHkN"
      },
      "execution_count": null,
      "outputs": []
    },
    {
      "cell_type": "markdown",
      "source": [
        "## Generación de Excel con Datos"
      ],
      "metadata": {
        "id": "THGEPEV3VuHn"
      }
    },
    {
      "cell_type": "markdown",
      "source": [],
      "metadata": {
        "id": "HDp9NUeTVv80"
      }
    },
    {
      "cell_type": "markdown",
      "source": [
        "### Carga de paquetes"
      ],
      "metadata": {
        "id": "thbBpkYnWSDu"
      }
    },
    {
      "cell_type": "code",
      "source": [
        "import glob\n",
        "import os\n",
        "import numpy as np\n",
        "import pandas as pd\n",
        "import concurrent.futures\n",
        "from maad import sound, util, spl\n",
        "from google.colab import drive\n",
        "# Montar Google Drive\n",
        "drive.mount('/content/drive')"
      ],
      "metadata": {
        "id": "YrdXkw2AWUwL"
      },
      "execution_count": null,
      "outputs": []
    },
    {
      "cell_type": "markdown",
      "source": [
        "### Configuraciones iniciales"
      ],
      "metadata": {
        "id": "N2BjXHddWbam"
      }
    },
    {
      "cell_type": "code",
      "source": [
        "# Configuraciones iniciales\n",
        "input_path = '/content/drive/MyDrive/Curso_Ecologia_Paisaje_Ecoacustica/Audios_SinLluvia'\n",
        "output_path = '/content/drive/MyDrive/Curso_Ecologia_Paisaje_Ecoacustica/Resultados_SPL'\n",
        "batch_size = 40\n",
        "prefix = \"CursoEcolPasEcoac_\"  # Prefijo para las gráficas\n",
        "\n",
        "# Parámetros (los que están aquí son los de AUDIOMOTH sensu Ulloa)\n",
        "S = -18\n",
        "G = 16\n",
        "VADC = 2\n",
        "\n",
        "# Bandas de frecuencia\n",
        "frequency_bands = [\n",
        "    (0, 1000), (1000, 2000), (2000, 3000), (3000, 4000),\n",
        "    (4000, 5000), (5000, 6000), (6000, 7000), (7000, 8000),\n",
        "    (8000, 9000), (9000, 10000), (10000, 11000), (11000, 12000)\n",
        "]"
      ],
      "metadata": {
        "id": "8PJY5wLmWfdI"
      },
      "execution_count": null,
      "outputs": []
    },
    {
      "cell_type": "markdown",
      "source": [
        "### Generación del excel"
      ],
      "metadata": {
        "id": "tPYIUiX4Wwzo"
      }
    },
    {
      "cell_type": "code",
      "source": [
        "# Crear el directorio de salida si no existe\n",
        "if not os.path.exists(output_path):\n",
        "    os.makedirs(output_path)\n",
        "\n",
        "def process_audio_file(fname):\n",
        "    \"\"\"Procesa un archivo WAV y calcula los SPL por banda de frecuencia con manejo de errores.\"\"\"\n",
        "    try:\n",
        "        wave, fs = sound.load(fname, channel='left', detrend=True)\n",
        "        Sxx_power, _, fn, _ = sound.spectrogram(wave, fs, window='hann', nperseg=1024, noverlap=512 // 2)\n",
        "        mean_PSD = np.mean(Sxx_power, axis=1)\n",
        "\n",
        "        leq_bands = [\n",
        "            spl.psd2leq(mean_PSD[util.index_bw(fn, band)], gain=G, sensitivity=S, Vadc=VADC)\n",
        "            for band in frequency_bands\n",
        "        ]\n",
        "\n",
        "        basename = os.path.basename(fname)\n",
        "        time_str = basename.split('_')[2].split('.')[0]\n",
        "        hour = int(time_str[:2])\n",
        "        folder_name = os.path.basename(os.path.dirname(fname))\n",
        "\n",
        "        return leq_bands, hour, folder_name\n",
        "    except Exception as e:\n",
        "        print(f\"Error processing file {fname}: {e}\")\n",
        "        return None\n",
        "\n",
        "def process_batch(flist):\n",
        "    \"\"\"Procesa un lote de archivos en paralelo.\"\"\"\n",
        "    with concurrent.futures.ThreadPoolExecutor() as executor:\n",
        "        results = list(executor.map(process_audio_file, flist))\n",
        "    return results\n",
        "\n",
        "def compile_results_for_all_folders(input_path, prefix, excel_writer):\n",
        "    \"\"\"Compila los resultados SPL de todas las carpetas en una sola hoja de Excel manejando archivos erróneos.\"\"\"\n",
        "    compiled_results = []\n",
        "\n",
        "    for root, dirs, _ in os.walk(input_path):\n",
        "        for dir in dirs:\n",
        "            subfolder_path = os.path.join(root, dir) + '/'\n",
        "            flist = glob.glob(subfolder_path + '*.WAV')\n",
        "            flist.sort()\n",
        "\n",
        "            if not flist:\n",
        "                continue\n",
        "\n",
        "            batch_results = process_batch(flist)\n",
        "\n",
        "            for result in batch_results:\n",
        "                if result is not None:\n",
        "                    leq_bands, hour, folder_name = result\n",
        "                    compiled_results.append([prefix + folder_name, hour] + leq_bands)\n",
        "\n",
        "    columns = ['Folder', 'Hour'] + [f\"{fmin}-{fmax}Hz\" for fmin, fmax in frequency_bands]\n",
        "    df_compiled_results = pd.DataFrame(compiled_results, columns=columns)\n",
        "    df_compiled_results.to_excel(excel_writer, sheet_name='Compiled Results', index=False, float_format=\"%.2f\")\n",
        "\n",
        "if __name__ == \"__main__\":\n",
        "    import time\n",
        "\n",
        "    start_time = time.time()\n",
        "\n",
        "    # Crear un escritor de pandas Excel\n",
        "    excel_writer = pd.ExcelWriter(os.path.join(output_path, f'{prefix}SPL_Summary.xlsx'), engine='openpyxl')\n",
        "\n",
        "    # Compilar y guardar resultados de todas las carpetas\n",
        "    compile_results_for_all_folders(input_path, prefix, excel_writer)\n",
        "\n",
        "    # Guardar y cerrar el archivo Excel\n",
        "    excel_writer.close()\n",
        "    print(f\"Tiempo de ejecución: {time.time() - start_time} segundos.\")"
      ],
      "metadata": {
        "id": "7x-Nc5UIWwIZ"
      },
      "execution_count": null,
      "outputs": []
    },
    {
      "cell_type": "markdown",
      "source": [
        "# Generación de tablas para intepolación"
      ],
      "metadata": {
        "id": "kUZQL02McCfe"
      }
    },
    {
      "cell_type": "markdown",
      "source": [
        "## Cargar Paquetes"
      ],
      "metadata": {
        "id": "rpN6h4QldHuv"
      }
    },
    {
      "cell_type": "code",
      "source": [
        "import pandas as pd\n",
        "import numpy as np\n",
        "import os\n",
        "from openpyxl import Workbook"
      ],
      "metadata": {
        "id": "MZAO9ovRdKdI"
      },
      "execution_count": null,
      "outputs": []
    },
    {
      "cell_type": "markdown",
      "source": [
        "## Definir parámetros"
      ],
      "metadata": {
        "id": "0ggdyrbqdMC1"
      }
    },
    {
      "cell_type": "code",
      "source": [
        "\n",
        "# Ruta del archivo Excel de entrada\n",
        "input_file_path = '/content/drive/MyDrive/Curso_Ecologia_Paisaje_Ecoacustica/Resultados_SPL/CursoEcolPasEcoac_SPL_Summary.xlsx'\n",
        "\n",
        "# Parámetros definidos manualmente\n",
        "hora_inicio = 17  # Hora de inicio del rango\n",
        "hora_fin = 7      # Hora final del rango\n",
        "freq_inicio = \"0-1000Hz\"  # Frecuencia inicial\n",
        "freq_fin = \"3000-4000Hz\"  # Frecuencia final\n",
        "output_file_path = '/content/drive/MyDrive/Curso_Ecologia_Paisaje_Ecoacustica/Resultados_SPL/CursoEcolPasEcoac_promedios_SPL.xlsx'\n"
      ],
      "metadata": {
        "id": "LkevsQxldOKO"
      },
      "execution_count": null,
      "outputs": []
    },
    {
      "cell_type": "markdown",
      "source": [
        "## Correr algoritmos"
      ],
      "metadata": {
        "id": "hlKJEd5sdRq3"
      }
    },
    {
      "cell_type": "code",
      "source": [
        "\n",
        "# Leer el archivo Excel\n",
        "print(f\"Leyendo el archivo Excel: {input_file_path}\")\n",
        "datos = pd.read_excel(input_file_path)\n",
        "\n",
        "# Asegurarse de que las columnas de frecuencia estén presentes\n",
        "if freq_inicio not in datos.columns or freq_fin not in datos.columns:\n",
        "    raise ValueError(\"Frecuencia inicial o final no encontrada en las columnas del archivo.\")\n",
        "\n",
        "# Determinar las columnas de frecuencia dentro del rango especificado\n",
        "rango_frecuencias = datos.columns.tolist()\n",
        "col_freq_inicio = rango_frecuencias.index(freq_inicio)\n",
        "col_freq_fin = rango_frecuencias.index(freq_fin)\n",
        "if col_freq_inicio > col_freq_fin:\n",
        "    raise ValueError(\"La columna de frecuencia inicial está después de la final en las columnas del archivo.\")\n",
        "\n",
        "# Filtrar las horas manejando rangos que cruzan la medianoche\n",
        "if hora_inicio <= hora_fin:\n",
        "    datos_filtrados = datos[(datos['Hour'] >= hora_inicio) & (datos['Hour'] <= hora_fin)]\n",
        "else:\n",
        "    datos_filtrados = datos[(datos['Hour'] >= hora_inicio) | (datos['Hour'] <= hora_fin)]\n",
        "\n",
        "# Seleccionar columnas relevantes: Carpeta, Hora y Rango de Frecuencias\n",
        "datos_filtrados = datos_filtrados.iloc[:, [0, 1] + list(range(col_freq_inicio, col_freq_fin + 1))]\n",
        "\n",
        "# Calcular promedios agrupados por 'Folder'\n",
        "data_promedios = datos_filtrados.groupby('Folder').mean(numeric_only=True)\n",
        "\n",
        "# Guardar los resultados en un archivo Excel\n",
        "print(f\"Guardando el archivo Excel: {output_file_path}\")\n",
        "data_promedios.to_excel(output_file_path, index=True, engine='openpyxl')\n",
        "print(f\"Archivo guardado con éxito en: {output_file_path}\")\n",
        "\n",
        "# Mostrar una vista previa de los resultados\n",
        "print(\"Vista previa de los promedios calculados:\")\n",
        "print(data_promedios.head())\n"
      ],
      "metadata": {
        "id": "uJTBs3IqcA1B"
      },
      "execution_count": null,
      "outputs": []
    }
  ]
}