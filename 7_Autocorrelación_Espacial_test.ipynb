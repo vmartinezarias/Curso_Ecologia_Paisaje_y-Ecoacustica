{
  "nbformat": 4,
  "nbformat_minor": 0,
  "metadata": {
    "colab": {
      "provenance": [],
      "toc_visible": true,
      "authorship_tag": "ABX9TyNmzMuythsgS4IgICkTybtU",
      "include_colab_link": true
    },
    "kernelspec": {
      "name": "python3",
      "display_name": "Python 3"
    },
    "language_info": {
      "name": "python"
    }
  },
  "cells": [
    {
      "cell_type": "markdown",
      "metadata": {
        "id": "view-in-github",
        "colab_type": "text"
      },
      "source": [
        "<a href=\"https://colab.research.google.com/github/vmartinezarias/Curso_Ecologia_Paisaje_y-Ecoacustica/blob/main/7_Autocorrelaci%C3%B3n_Espacial_test.ipynb\" target=\"_parent\"><img src=\"https://colab.research.google.com/assets/colab-badge.svg\" alt=\"Open In Colab\"/></a>"
      ]
    },
    {
      "cell_type": "markdown",
      "source": [
        "# Análisis de Autocorrelación espacial\n",
        "En este script se van a manejar:"
      ],
      "metadata": {
        "id": "RAE2HiCGMoHG"
      }
    },
    {
      "cell_type": "markdown",
      "source": [
        "## **I de morán**:\n",
        "\n",
        "Es el índice más común para medir la autocorrelación espacial. Moran's I evalúa si los valores similares están más cercanos espacialmente de lo que sería aleatorio. Su valor devaría entre:\n",
        "1: Autocorrelación espacial positiva perfecta (valores similares están cerca unos de otros).\n",
        "0: No hay autocorrelación espacial (aleatoriedad espacial).\n",
        "-1: Autocorrelación espacial negativa perfecta (valores disímiles están cerca unos de otros).\n",
        "\n",
        "Adicionalmente, se maneja un p-value, el cuál si está por encima de 0.05 no se puede rechazar la Hipótesis Nula de que NO hay auto correlción espacial."
      ],
      "metadata": {
        "id": "U2JrBq9_EJZc"
      }
    },
    {
      "cell_type": "markdown",
      "source": [
        "### 1. Instalación de paquetes"
      ],
      "metadata": {
        "id": "eetnfKAGE9DU"
      }
    },
    {
      "cell_type": "code",
      "execution_count": null,
      "metadata": {
        "colab": {
          "base_uri": "https://localhost:8080/"
        },
        "id": "K0Ah6U0TEHcu",
        "outputId": "9bb84689-a4ac-4191-a772-f31894566182"
      },
      "outputs": [
        {
          "output_type": "stream",
          "name": "stdout",
          "text": [
            "Collecting rasterio\n",
            "  Downloading rasterio-1.4.2-cp310-cp310-manylinux_2_17_x86_64.manylinux2014_x86_64.whl.metadata (9.1 kB)\n",
            "Collecting affine (from rasterio)\n",
            "  Downloading affine-2.4.0-py3-none-any.whl.metadata (4.0 kB)\n",
            "Requirement already satisfied: attrs in /usr/local/lib/python3.10/dist-packages (from rasterio) (24.2.0)\n",
            "Requirement already satisfied: certifi in /usr/local/lib/python3.10/dist-packages (from rasterio) (2024.8.30)\n",
            "Requirement already satisfied: click>=4.0 in /usr/local/lib/python3.10/dist-packages (from rasterio) (8.1.7)\n",
            "Collecting cligj>=0.5 (from rasterio)\n",
            "  Downloading cligj-0.7.2-py3-none-any.whl.metadata (5.0 kB)\n",
            "Requirement already satisfied: numpy>=1.24 in /usr/local/lib/python3.10/dist-packages (from rasterio) (1.26.4)\n",
            "Collecting click-plugins (from rasterio)\n",
            "  Downloading click_plugins-1.1.1-py2.py3-none-any.whl.metadata (6.4 kB)\n",
            "Requirement already satisfied: pyparsing in /usr/local/lib/python3.10/dist-packages (from rasterio) (3.2.0)\n",
            "Downloading rasterio-1.4.2-cp310-cp310-manylinux_2_17_x86_64.manylinux2014_x86_64.whl (22.2 MB)\n",
            "\u001b[2K   \u001b[90m━━━━━━━━━━━━━━━━━━━━━━━━━━━━━━━━━━━━━━━━\u001b[0m \u001b[32m22.2/22.2 MB\u001b[0m \u001b[31m64.9 MB/s\u001b[0m eta \u001b[36m0:00:00\u001b[0m\n",
            "\u001b[?25hDownloading cligj-0.7.2-py3-none-any.whl (7.1 kB)\n",
            "Downloading affine-2.4.0-py3-none-any.whl (15 kB)\n",
            "Downloading click_plugins-1.1.1-py2.py3-none-any.whl (7.5 kB)\n",
            "Installing collected packages: cligj, click-plugins, affine, rasterio\n",
            "Successfully installed affine-2.4.0 click-plugins-1.1.1 cligj-0.7.2 rasterio-1.4.2\n",
            "Requirement already satisfied: geopandas in /usr/local/lib/python3.10/dist-packages (1.0.1)\n",
            "Requirement already satisfied: numpy>=1.22 in /usr/local/lib/python3.10/dist-packages (from geopandas) (1.26.4)\n",
            "Requirement already satisfied: pyogrio>=0.7.2 in /usr/local/lib/python3.10/dist-packages (from geopandas) (0.10.0)\n",
            "Requirement already satisfied: packaging in /usr/local/lib/python3.10/dist-packages (from geopandas) (24.2)\n",
            "Requirement already satisfied: pandas>=1.4.0 in /usr/local/lib/python3.10/dist-packages (from geopandas) (2.2.2)\n",
            "Requirement already satisfied: pyproj>=3.3.0 in /usr/local/lib/python3.10/dist-packages (from geopandas) (3.7.0)\n",
            "Requirement already satisfied: shapely>=2.0.0 in /usr/local/lib/python3.10/dist-packages (from geopandas) (2.0.6)\n",
            "Requirement already satisfied: python-dateutil>=2.8.2 in /usr/local/lib/python3.10/dist-packages (from pandas>=1.4.0->geopandas) (2.8.2)\n",
            "Requirement already satisfied: pytz>=2020.1 in /usr/local/lib/python3.10/dist-packages (from pandas>=1.4.0->geopandas) (2024.2)\n",
            "Requirement already satisfied: tzdata>=2022.7 in /usr/local/lib/python3.10/dist-packages (from pandas>=1.4.0->geopandas) (2024.2)\n",
            "Requirement already satisfied: certifi in /usr/local/lib/python3.10/dist-packages (from pyogrio>=0.7.2->geopandas) (2024.8.30)\n",
            "Requirement already satisfied: six>=1.5 in /usr/local/lib/python3.10/dist-packages (from python-dateutil>=2.8.2->pandas>=1.4.0->geopandas) (1.16.0)\n",
            "Collecting libpysal\n",
            "  Downloading libpysal-4.12.1-py3-none-any.whl.metadata (4.8 kB)\n",
            "Requirement already satisfied: beautifulsoup4>=4.10 in /usr/local/lib/python3.10/dist-packages (from libpysal) (4.12.3)\n",
            "Requirement already satisfied: geopandas>=0.10.0 in /usr/local/lib/python3.10/dist-packages (from libpysal) (1.0.1)\n",
            "Requirement already satisfied: numpy>=1.22 in /usr/local/lib/python3.10/dist-packages (from libpysal) (1.26.4)\n",
            "Requirement already satisfied: packaging>=22 in /usr/local/lib/python3.10/dist-packages (from libpysal) (24.2)\n",
            "Requirement already satisfied: pandas>=1.4 in /usr/local/lib/python3.10/dist-packages (from libpysal) (2.2.2)\n",
            "Requirement already satisfied: platformdirs>=2.0.2 in /usr/local/lib/python3.10/dist-packages (from libpysal) (4.3.6)\n",
            "Requirement already satisfied: requests>=2.27 in /usr/local/lib/python3.10/dist-packages (from libpysal) (2.32.3)\n",
            "Requirement already satisfied: scipy>=1.8 in /usr/local/lib/python3.10/dist-packages (from libpysal) (1.13.1)\n",
            "Requirement already satisfied: shapely>=2.0.1 in /usr/local/lib/python3.10/dist-packages (from libpysal) (2.0.6)\n",
            "Requirement already satisfied: scikit-learn>=1.1 in /usr/local/lib/python3.10/dist-packages (from libpysal) (1.5.2)\n",
            "Requirement already satisfied: soupsieve>1.2 in /usr/local/lib/python3.10/dist-packages (from beautifulsoup4>=4.10->libpysal) (2.6)\n",
            "Requirement already satisfied: pyogrio>=0.7.2 in /usr/local/lib/python3.10/dist-packages (from geopandas>=0.10.0->libpysal) (0.10.0)\n",
            "Requirement already satisfied: pyproj>=3.3.0 in /usr/local/lib/python3.10/dist-packages (from geopandas>=0.10.0->libpysal) (3.7.0)\n",
            "Requirement already satisfied: python-dateutil>=2.8.2 in /usr/local/lib/python3.10/dist-packages (from pandas>=1.4->libpysal) (2.8.2)\n",
            "Requirement already satisfied: pytz>=2020.1 in /usr/local/lib/python3.10/dist-packages (from pandas>=1.4->libpysal) (2024.2)\n",
            "Requirement already satisfied: tzdata>=2022.7 in /usr/local/lib/python3.10/dist-packages (from pandas>=1.4->libpysal) (2024.2)\n",
            "Requirement already satisfied: charset-normalizer<4,>=2 in /usr/local/lib/python3.10/dist-packages (from requests>=2.27->libpysal) (3.4.0)\n",
            "Requirement already satisfied: idna<4,>=2.5 in /usr/local/lib/python3.10/dist-packages (from requests>=2.27->libpysal) (3.10)\n",
            "Requirement already satisfied: urllib3<3,>=1.21.1 in /usr/local/lib/python3.10/dist-packages (from requests>=2.27->libpysal) (2.2.3)\n",
            "Requirement already satisfied: certifi>=2017.4.17 in /usr/local/lib/python3.10/dist-packages (from requests>=2.27->libpysal) (2024.8.30)\n",
            "Requirement already satisfied: joblib>=1.2.0 in /usr/local/lib/python3.10/dist-packages (from scikit-learn>=1.1->libpysal) (1.4.2)\n",
            "Requirement already satisfied: threadpoolctl>=3.1.0 in /usr/local/lib/python3.10/dist-packages (from scikit-learn>=1.1->libpysal) (3.5.0)\n",
            "Requirement already satisfied: six>=1.5 in /usr/local/lib/python3.10/dist-packages (from python-dateutil>=2.8.2->pandas>=1.4->libpysal) (1.16.0)\n",
            "Downloading libpysal-4.12.1-py3-none-any.whl (2.8 MB)\n",
            "\u001b[2K   \u001b[90m━━━━━━━━━━━━━━━━━━━━━━━━━━━━━━━━━━━━━━━━\u001b[0m \u001b[32m2.8/2.8 MB\u001b[0m \u001b[31m25.8 MB/s\u001b[0m eta \u001b[36m0:00:00\u001b[0m\n",
            "\u001b[?25hInstalling collected packages: libpysal\n",
            "Successfully installed libpysal-4.12.1\n",
            "Collecting esda\n",
            "  Downloading esda-2.6.0-py3-none-any.whl.metadata (2.0 kB)\n",
            "Requirement already satisfied: geopandas>=0.12 in /usr/local/lib/python3.10/dist-packages (from esda) (1.0.1)\n",
            "Requirement already satisfied: libpysal>=4.12 in /usr/local/lib/python3.10/dist-packages (from esda) (4.12.1)\n",
            "Requirement already satisfied: numpy>=1.24 in /usr/local/lib/python3.10/dist-packages (from esda) (1.26.4)\n",
            "Requirement already satisfied: pandas>1.5 in /usr/local/lib/python3.10/dist-packages (from esda) (2.2.2)\n",
            "Requirement already satisfied: scikit-learn>=1.2 in /usr/local/lib/python3.10/dist-packages (from esda) (1.5.2)\n",
            "Requirement already satisfied: scipy>=1.9 in /usr/local/lib/python3.10/dist-packages (from esda) (1.13.1)\n",
            "Requirement already satisfied: shapely>=2.0 in /usr/local/lib/python3.10/dist-packages (from esda) (2.0.6)\n",
            "Requirement already satisfied: pyogrio>=0.7.2 in /usr/local/lib/python3.10/dist-packages (from geopandas>=0.12->esda) (0.10.0)\n",
            "Requirement already satisfied: packaging in /usr/local/lib/python3.10/dist-packages (from geopandas>=0.12->esda) (24.2)\n",
            "Requirement already satisfied: pyproj>=3.3.0 in /usr/local/lib/python3.10/dist-packages (from geopandas>=0.12->esda) (3.7.0)\n",
            "Requirement already satisfied: beautifulsoup4>=4.10 in /usr/local/lib/python3.10/dist-packages (from libpysal>=4.12->esda) (4.12.3)\n",
            "Requirement already satisfied: platformdirs>=2.0.2 in /usr/local/lib/python3.10/dist-packages (from libpysal>=4.12->esda) (4.3.6)\n",
            "Requirement already satisfied: requests>=2.27 in /usr/local/lib/python3.10/dist-packages (from libpysal>=4.12->esda) (2.32.3)\n",
            "Requirement already satisfied: python-dateutil>=2.8.2 in /usr/local/lib/python3.10/dist-packages (from pandas>1.5->esda) (2.8.2)\n",
            "Requirement already satisfied: pytz>=2020.1 in /usr/local/lib/python3.10/dist-packages (from pandas>1.5->esda) (2024.2)\n",
            "Requirement already satisfied: tzdata>=2022.7 in /usr/local/lib/python3.10/dist-packages (from pandas>1.5->esda) (2024.2)\n",
            "Requirement already satisfied: joblib>=1.2.0 in /usr/local/lib/python3.10/dist-packages (from scikit-learn>=1.2->esda) (1.4.2)\n",
            "Requirement already satisfied: threadpoolctl>=3.1.0 in /usr/local/lib/python3.10/dist-packages (from scikit-learn>=1.2->esda) (3.5.0)\n",
            "Requirement already satisfied: soupsieve>1.2 in /usr/local/lib/python3.10/dist-packages (from beautifulsoup4>=4.10->libpysal>=4.12->esda) (2.6)\n",
            "Requirement already satisfied: certifi in /usr/local/lib/python3.10/dist-packages (from pyogrio>=0.7.2->geopandas>=0.12->esda) (2024.8.30)\n",
            "Requirement already satisfied: six>=1.5 in /usr/local/lib/python3.10/dist-packages (from python-dateutil>=2.8.2->pandas>1.5->esda) (1.16.0)\n",
            "Requirement already satisfied: charset-normalizer<4,>=2 in /usr/local/lib/python3.10/dist-packages (from requests>=2.27->libpysal>=4.12->esda) (3.4.0)\n",
            "Requirement already satisfied: idna<4,>=2.5 in /usr/local/lib/python3.10/dist-packages (from requests>=2.27->libpysal>=4.12->esda) (3.10)\n",
            "Requirement already satisfied: urllib3<3,>=1.21.1 in /usr/local/lib/python3.10/dist-packages (from requests>=2.27->libpysal>=4.12->esda) (2.2.3)\n",
            "Downloading esda-2.6.0-py3-none-any.whl (135 kB)\n",
            "\u001b[2K   \u001b[90m━━━━━━━━━━━━━━━━━━━━━━━━━━━━━━━━━━━━━━━━\u001b[0m \u001b[32m135.4/135.4 kB\u001b[0m \u001b[31m2.7 MB/s\u001b[0m eta \u001b[36m0:00:00\u001b[0m\n",
            "\u001b[?25hInstalling collected packages: esda\n",
            "Successfully installed esda-2.6.0\n",
            "Requirement already satisfied: shapely in /usr/local/lib/python3.10/dist-packages (2.0.6)\n",
            "Requirement already satisfied: numpy<3,>=1.14 in /usr/local/lib/python3.10/dist-packages (from shapely) (1.26.4)\n",
            "Collecting splot\n",
            "  Downloading splot-1.1.7-py3-none-any.whl.metadata (8.9 kB)\n",
            "Requirement already satisfied: esda in /usr/local/lib/python3.10/dist-packages (from splot) (2.6.0)\n",
            "Requirement already satisfied: geopandas>=0.9.0 in /usr/local/lib/python3.10/dist-packages (from splot) (1.0.1)\n",
            "Collecting giddy (from splot)\n",
            "  Downloading giddy-2.3.5-py3-none-any.whl.metadata (6.4 kB)\n",
            "Requirement already satisfied: libpysal in /usr/local/lib/python3.10/dist-packages (from splot) (4.12.1)\n",
            "Collecting mapclassify (from splot)\n",
            "  Downloading mapclassify-2.8.1-py3-none-any.whl.metadata (2.8 kB)\n",
            "Requirement already satisfied: matplotlib>=3.3.3 in /usr/local/lib/python3.10/dist-packages (from splot) (3.8.0)\n",
            "Requirement already satisfied: numpy in /usr/local/lib/python3.10/dist-packages (from splot) (1.26.4)\n",
            "Requirement already satisfied: packaging in /usr/local/lib/python3.10/dist-packages (from splot) (24.2)\n",
            "Requirement already satisfied: seaborn>=0.11.0 in /usr/local/lib/python3.10/dist-packages (from splot) (0.13.2)\n",
            "Collecting spreg (from splot)\n",
            "  Downloading spreg-1.8-py3-none-any.whl.metadata (1.7 kB)\n",
            "Requirement already satisfied: pyogrio>=0.7.2 in /usr/local/lib/python3.10/dist-packages (from geopandas>=0.9.0->splot) (0.10.0)\n",
            "Requirement already satisfied: pandas>=1.4.0 in /usr/local/lib/python3.10/dist-packages (from geopandas>=0.9.0->splot) (2.2.2)\n",
            "Requirement already satisfied: pyproj>=3.3.0 in /usr/local/lib/python3.10/dist-packages (from geopandas>=0.9.0->splot) (3.7.0)\n",
            "Requirement already satisfied: shapely>=2.0.0 in /usr/local/lib/python3.10/dist-packages (from geopandas>=0.9.0->splot) (2.0.6)\n",
            "Requirement already satisfied: contourpy>=1.0.1 in /usr/local/lib/python3.10/dist-packages (from matplotlib>=3.3.3->splot) (1.3.1)\n",
            "Requirement already satisfied: cycler>=0.10 in /usr/local/lib/python3.10/dist-packages (from matplotlib>=3.3.3->splot) (0.12.1)\n",
            "Requirement already satisfied: fonttools>=4.22.0 in /usr/local/lib/python3.10/dist-packages (from matplotlib>=3.3.3->splot) (4.54.1)\n",
            "Requirement already satisfied: kiwisolver>=1.0.1 in /usr/local/lib/python3.10/dist-packages (from matplotlib>=3.3.3->splot) (1.4.7)\n",
            "Requirement already satisfied: pillow>=6.2.0 in /usr/local/lib/python3.10/dist-packages (from matplotlib>=3.3.3->splot) (11.0.0)\n",
            "Requirement already satisfied: pyparsing>=2.3.1 in /usr/local/lib/python3.10/dist-packages (from matplotlib>=3.3.3->splot) (3.2.0)\n",
            "Requirement already satisfied: python-dateutil>=2.7 in /usr/local/lib/python3.10/dist-packages (from matplotlib>=3.3.3->splot) (2.8.2)\n",
            "Requirement already satisfied: scikit-learn>=1.2 in /usr/local/lib/python3.10/dist-packages (from esda->splot) (1.5.2)\n",
            "Requirement already satisfied: scipy>=1.9 in /usr/local/lib/python3.10/dist-packages (from esda->splot) (1.13.1)\n",
            "Requirement already satisfied: beautifulsoup4>=4.10 in /usr/local/lib/python3.10/dist-packages (from libpysal->splot) (4.12.3)\n",
            "Requirement already satisfied: platformdirs>=2.0.2 in /usr/local/lib/python3.10/dist-packages (from libpysal->splot) (4.3.6)\n",
            "Requirement already satisfied: requests>=2.27 in /usr/local/lib/python3.10/dist-packages (from libpysal->splot) (2.32.3)\n",
            "Collecting quantecon>=0.4.7 (from giddy->splot)\n",
            "  Downloading quantecon-0.7.2-py3-none-any.whl.metadata (4.9 kB)\n",
            "Requirement already satisfied: networkx>=2.7 in /usr/local/lib/python3.10/dist-packages (from mapclassify->splot) (3.4.2)\n",
            "Requirement already satisfied: soupsieve>1.2 in /usr/local/lib/python3.10/dist-packages (from beautifulsoup4>=4.10->libpysal->splot) (2.6)\n",
            "Requirement already satisfied: pytz>=2020.1 in /usr/local/lib/python3.10/dist-packages (from pandas>=1.4.0->geopandas>=0.9.0->splot) (2024.2)\n",
            "Requirement already satisfied: tzdata>=2022.7 in /usr/local/lib/python3.10/dist-packages (from pandas>=1.4.0->geopandas>=0.9.0->splot) (2024.2)\n",
            "Requirement already satisfied: certifi in /usr/local/lib/python3.10/dist-packages (from pyogrio>=0.7.2->geopandas>=0.9.0->splot) (2024.8.30)\n",
            "Requirement already satisfied: six>=1.5 in /usr/local/lib/python3.10/dist-packages (from python-dateutil>=2.7->matplotlib>=3.3.3->splot) (1.16.0)\n",
            "Requirement already satisfied: numba>=0.49.0 in /usr/local/lib/python3.10/dist-packages (from quantecon>=0.4.7->giddy->splot) (0.60.0)\n",
            "Requirement already satisfied: sympy in /usr/local/lib/python3.10/dist-packages (from quantecon>=0.4.7->giddy->splot) (1.13.1)\n",
            "Requirement already satisfied: charset-normalizer<4,>=2 in /usr/local/lib/python3.10/dist-packages (from requests>=2.27->libpysal->splot) (3.4.0)\n",
            "Requirement already satisfied: idna<4,>=2.5 in /usr/local/lib/python3.10/dist-packages (from requests>=2.27->libpysal->splot) (3.10)\n",
            "Requirement already satisfied: urllib3<3,>=1.21.1 in /usr/local/lib/python3.10/dist-packages (from requests>=2.27->libpysal->splot) (2.2.3)\n",
            "Requirement already satisfied: joblib>=1.2.0 in /usr/local/lib/python3.10/dist-packages (from scikit-learn>=1.2->esda->splot) (1.4.2)\n",
            "Requirement already satisfied: threadpoolctl>=3.1.0 in /usr/local/lib/python3.10/dist-packages (from scikit-learn>=1.2->esda->splot) (3.5.0)\n",
            "Requirement already satisfied: llvmlite<0.44,>=0.43.0dev0 in /usr/local/lib/python3.10/dist-packages (from numba>=0.49.0->quantecon>=0.4.7->giddy->splot) (0.43.0)\n",
            "Requirement already satisfied: mpmath<1.4,>=1.1.0 in /usr/local/lib/python3.10/dist-packages (from sympy->quantecon>=0.4.7->giddy->splot) (1.3.0)\n",
            "Downloading splot-1.1.7-py3-none-any.whl (39 kB)\n",
            "Downloading giddy-2.3.5-py3-none-any.whl (61 kB)\n",
            "\u001b[2K   \u001b[90m━━━━━━━━━━━━━━━━━━━━━━━━━━━━━━━━━━━━━━━━\u001b[0m \u001b[32m61.1/61.1 kB\u001b[0m \u001b[31m2.6 MB/s\u001b[0m eta \u001b[36m0:00:00\u001b[0m\n",
            "\u001b[?25hDownloading mapclassify-2.8.1-py3-none-any.whl (59 kB)\n",
            "\u001b[2K   \u001b[90m━━━━━━━━━━━━━━━━━━━━━━━━━━━━━━━━━━━━━━━━\u001b[0m \u001b[32m59.1/59.1 kB\u001b[0m \u001b[31m4.1 MB/s\u001b[0m eta \u001b[36m0:00:00\u001b[0m\n",
            "\u001b[?25hDownloading spreg-1.8-py3-none-any.whl (379 kB)\n",
            "\u001b[2K   \u001b[90m━━━━━━━━━━━━━━━━━━━━━━━━━━━━━━━━━━━━━━━━\u001b[0m \u001b[32m379.8/379.8 kB\u001b[0m \u001b[31m13.7 MB/s\u001b[0m eta \u001b[36m0:00:00\u001b[0m\n",
            "\u001b[?25hDownloading quantecon-0.7.2-py3-none-any.whl (215 kB)\n",
            "\u001b[2K   \u001b[90m━━━━━━━━━━━━━━━━━━━━━━━━━━━━━━━━━━━━━━━━\u001b[0m \u001b[32m215.4/215.4 kB\u001b[0m \u001b[31m15.5 MB/s\u001b[0m eta \u001b[36m0:00:00\u001b[0m\n",
            "\u001b[?25hInstalling collected packages: quantecon, mapclassify, spreg, giddy, splot\n",
            "Successfully installed giddy-2.3.5 mapclassify-2.8.1 quantecon-0.7.2 splot-1.1.7 spreg-1.8\n",
            "Collecting pysal\n",
            "  Downloading pysal-24.7-py3-none-any.whl.metadata (16 kB)\n",
            "Requirement already satisfied: beautifulsoup4>=4.10 in /usr/local/lib/python3.10/dist-packages (from pysal) (4.12.3)\n",
            "Requirement already satisfied: geopandas>=0.10.0 in /usr/local/lib/python3.10/dist-packages (from pysal) (1.0.1)\n",
            "Requirement already satisfied: numpy>=1.22 in /usr/local/lib/python3.10/dist-packages (from pysal) (1.26.4)\n",
            "Requirement already satisfied: packaging>=22 in /usr/local/lib/python3.10/dist-packages (from pysal) (24.2)\n",
            "Requirement already satisfied: pandas>=1.4 in /usr/local/lib/python3.10/dist-packages (from pysal) (2.2.2)\n",
            "Requirement already satisfied: platformdirs>=2.0.2 in /usr/local/lib/python3.10/dist-packages (from pysal) (4.3.6)\n",
            "Requirement already satisfied: requests>=2.27 in /usr/local/lib/python3.10/dist-packages (from pysal) (2.32.3)\n",
            "Requirement already satisfied: scipy>=1.8 in /usr/local/lib/python3.10/dist-packages (from pysal) (1.13.1)\n",
            "Requirement already satisfied: shapely>=2.0.1 in /usr/local/lib/python3.10/dist-packages (from pysal) (2.0.6)\n",
            "Requirement already satisfied: scikit-learn>=1.1 in /usr/local/lib/python3.10/dist-packages (from pysal) (1.5.2)\n",
            "Requirement already satisfied: libpysal>=4.12.0 in /usr/local/lib/python3.10/dist-packages (from pysal) (4.12.1)\n",
            "Collecting access>=1.1.9 (from pysal)\n",
            "  Downloading access-1.1.9-py3-none-any.whl.metadata (2.4 kB)\n",
            "Requirement already satisfied: esda>=2.6.0 in /usr/local/lib/python3.10/dist-packages (from pysal) (2.6.0)\n",
            "Requirement already satisfied: giddy>=2.3.5 in /usr/local/lib/python3.10/dist-packages (from pysal) (2.3.5)\n",
            "Collecting inequality>=1.0.1 (from pysal)\n",
            "  Downloading inequality-1.0.1-py3-none-any.whl.metadata (3.3 kB)\n",
            "Collecting pointpats>=2.5.0 (from pysal)\n",
            "  Downloading pointpats-2.5.1-py3-none-any.whl.metadata (4.7 kB)\n",
            "Collecting segregation>=2.5 (from pysal)\n",
            "  Downloading segregation-2.5.1-py3-none-any.whl.metadata (2.2 kB)\n",
            "Collecting spaghetti>=1.7.6 (from pysal)\n",
            "  Downloading spaghetti-1.7.6-py3-none-any.whl.metadata (12 kB)\n",
            "Collecting mgwr>=2.2.1 (from pysal)\n",
            "  Downloading mgwr-2.2.1-py3-none-any.whl.metadata (1.5 kB)\n",
            "Collecting momepy>=0.7.2 (from pysal)\n",
            "  Downloading momepy-0.8.1-py3-none-any.whl.metadata (1.4 kB)\n",
            "Collecting spglm>=1.1.0 (from pysal)\n",
            "  Downloading spglm-1.1.0-py3-none-any.whl.metadata (3.9 kB)\n",
            "Collecting spint>=1.0.7 (from pysal)\n",
            "  Downloading spint-1.0.7.tar.gz (28 kB)\n",
            "  Preparing metadata (setup.py) ... \u001b[?25l\u001b[?25hdone\n",
            "Requirement already satisfied: spreg>=1.5.0 in /usr/local/lib/python3.10/dist-packages (from pysal) (1.8)\n",
            "Collecting spvcm>=0.3.0 (from pysal)\n",
            "  Downloading spvcm-0.3.0.tar.gz (5.7 MB)\n",
            "\u001b[2K     \u001b[90m━━━━━━━━━━━━━━━━━━━━━━━━━━━━━━━━━━━━━━━━\u001b[0m \u001b[32m5.7/5.7 MB\u001b[0m \u001b[31m50.5 MB/s\u001b[0m eta \u001b[36m0:00:00\u001b[0m\n",
            "\u001b[?25h  Preparing metadata (setup.py) ... \u001b[?25l\u001b[?25hdone\n",
            "Collecting tobler>=0.11.2 (from pysal)\n",
            "  Downloading tobler-0.12.0-py3-none-any.whl.metadata (1.9 kB)\n",
            "Requirement already satisfied: mapclassify>=2.7.0 in /usr/local/lib/python3.10/dist-packages (from pysal) (2.8.1)\n",
            "Requirement already satisfied: splot>=1.1.5.post1 in /usr/local/lib/python3.10/dist-packages (from pysal) (1.1.7)\n",
            "Collecting spopt>=0.6.1 (from pysal)\n",
            "  Downloading spopt-0.6.1-py3-none-any.whl.metadata (10 kB)\n",
            "Requirement already satisfied: soupsieve>1.2 in /usr/local/lib/python3.10/dist-packages (from beautifulsoup4>=4.10->pysal) (2.6)\n",
            "Requirement already satisfied: pyogrio>=0.7.2 in /usr/local/lib/python3.10/dist-packages (from geopandas>=0.10.0->pysal) (0.10.0)\n",
            "Requirement already satisfied: pyproj>=3.3.0 in /usr/local/lib/python3.10/dist-packages (from geopandas>=0.10.0->pysal) (3.7.0)\n",
            "Requirement already satisfied: quantecon>=0.4.7 in /usr/local/lib/python3.10/dist-packages (from giddy>=2.3.5->pysal) (0.7.2)\n",
            "Requirement already satisfied: networkx>=2.7 in /usr/local/lib/python3.10/dist-packages (from mapclassify>=2.7.0->pysal) (3.4.2)\n",
            "Requirement already satisfied: tqdm>=4.63.0 in /usr/local/lib/python3.10/dist-packages (from momepy>=0.7.2->pysal) (4.66.6)\n",
            "Requirement already satisfied: python-dateutil>=2.8.2 in /usr/local/lib/python3.10/dist-packages (from pandas>=1.4->pysal) (2.8.2)\n",
            "Requirement already satisfied: pytz>=2020.1 in /usr/local/lib/python3.10/dist-packages (from pandas>=1.4->pysal) (2024.2)\n",
            "Requirement already satisfied: tzdata>=2022.7 in /usr/local/lib/python3.10/dist-packages (from pandas>=1.4->pysal) (2024.2)\n",
            "Requirement already satisfied: matplotlib>=3.6 in /usr/local/lib/python3.10/dist-packages (from pointpats>=2.5.0->pysal) (3.8.0)\n",
            "Requirement already satisfied: charset-normalizer<4,>=2 in /usr/local/lib/python3.10/dist-packages (from requests>=2.27->pysal) (3.4.0)\n",
            "Requirement already satisfied: idna<4,>=2.5 in /usr/local/lib/python3.10/dist-packages (from requests>=2.27->pysal) (3.10)\n",
            "Requirement already satisfied: urllib3<3,>=1.21.1 in /usr/local/lib/python3.10/dist-packages (from requests>=2.27->pysal) (2.2.3)\n",
            "Requirement already satisfied: certifi>=2017.4.17 in /usr/local/lib/python3.10/dist-packages (from requests>=2.27->pysal) (2024.8.30)\n",
            "Requirement already satisfied: joblib>=1.2.0 in /usr/local/lib/python3.10/dist-packages (from scikit-learn>=1.1->pysal) (1.4.2)\n",
            "Requirement already satisfied: threadpoolctl>=3.1.0 in /usr/local/lib/python3.10/dist-packages (from scikit-learn>=1.1->pysal) (3.5.0)\n",
            "Collecting deprecation (from segregation>=2.5->pysal)\n",
            "  Downloading deprecation-2.1.0-py2.py3-none-any.whl.metadata (4.6 kB)\n",
            "Requirement already satisfied: seaborn in /usr/local/lib/python3.10/dist-packages (from segregation>=2.5->pysal) (0.13.2)\n",
            "Requirement already satisfied: numba in /usr/local/lib/python3.10/dist-packages (from segregation>=2.5->pysal) (0.60.0)\n",
            "Collecting rtree>=1.0 (from spaghetti>=1.7.6->pysal)\n",
            "  Downloading Rtree-1.3.0-py3-none-manylinux2014_x86_64.manylinux_2_17_x86_64.whl.metadata (2.1 kB)\n",
            "Collecting pulp>=2.7 (from spopt>=0.6.1->pysal)\n",
            "  Downloading PuLP-2.9.0-py3-none-any.whl.metadata (5.4 kB)\n",
            "Requirement already satisfied: rasterio in /usr/local/lib/python3.10/dist-packages (from tobler>=0.11.2->pysal) (1.4.2)\n",
            "Requirement already satisfied: statsmodels in /usr/local/lib/python3.10/dist-packages (from tobler>=0.11.2->pysal) (0.14.4)\n",
            "Collecting rasterstats (from tobler>=0.11.2->pysal)\n",
            "  Downloading rasterstats-0.20.0-py3-none-any.whl.metadata (4.2 kB)\n",
            "Requirement already satisfied: contourpy>=1.0.1 in /usr/local/lib/python3.10/dist-packages (from matplotlib>=3.6->pointpats>=2.5.0->pysal) (1.3.1)\n",
            "Requirement already satisfied: cycler>=0.10 in /usr/local/lib/python3.10/dist-packages (from matplotlib>=3.6->pointpats>=2.5.0->pysal) (0.12.1)\n",
            "Requirement already satisfied: fonttools>=4.22.0 in /usr/local/lib/python3.10/dist-packages (from matplotlib>=3.6->pointpats>=2.5.0->pysal) (4.54.1)\n",
            "Requirement already satisfied: kiwisolver>=1.0.1 in /usr/local/lib/python3.10/dist-packages (from matplotlib>=3.6->pointpats>=2.5.0->pysal) (1.4.7)\n",
            "Requirement already satisfied: pillow>=6.2.0 in /usr/local/lib/python3.10/dist-packages (from matplotlib>=3.6->pointpats>=2.5.0->pysal) (11.0.0)\n",
            "Requirement already satisfied: pyparsing>=2.3.1 in /usr/local/lib/python3.10/dist-packages (from matplotlib>=3.6->pointpats>=2.5.0->pysal) (3.2.0)\n",
            "Requirement already satisfied: six>=1.5 in /usr/local/lib/python3.10/dist-packages (from python-dateutil>=2.8.2->pandas>=1.4->pysal) (1.16.0)\n",
            "Requirement already satisfied: sympy in /usr/local/lib/python3.10/dist-packages (from quantecon>=0.4.7->giddy>=2.3.5->pysal) (1.13.1)\n",
            "Requirement already satisfied: llvmlite<0.44,>=0.43.0dev0 in /usr/local/lib/python3.10/dist-packages (from numba->segregation>=2.5->pysal) (0.43.0)\n",
            "Requirement already satisfied: affine in /usr/local/lib/python3.10/dist-packages (from rasterio->tobler>=0.11.2->pysal) (2.4.0)\n",
            "Requirement already satisfied: attrs in /usr/local/lib/python3.10/dist-packages (from rasterio->tobler>=0.11.2->pysal) (24.2.0)\n",
            "Requirement already satisfied: click>=4.0 in /usr/local/lib/python3.10/dist-packages (from rasterio->tobler>=0.11.2->pysal) (8.1.7)\n",
            "Requirement already satisfied: cligj>=0.5 in /usr/local/lib/python3.10/dist-packages (from rasterio->tobler>=0.11.2->pysal) (0.7.2)\n",
            "Requirement already satisfied: click-plugins in /usr/local/lib/python3.10/dist-packages (from rasterio->tobler>=0.11.2->pysal) (1.1.1)\n",
            "Collecting fiona (from rasterstats->tobler>=0.11.2->pysal)\n",
            "  Downloading fiona-1.10.1-cp310-cp310-manylinux_2_17_x86_64.manylinux2014_x86_64.whl.metadata (56 kB)\n",
            "\u001b[2K     \u001b[90m━━━━━━━━━━━━━━━━━━━━━━━━━━━━━━━━━━━━━━━━\u001b[0m \u001b[32m56.6/56.6 kB\u001b[0m \u001b[31m4.2 MB/s\u001b[0m eta \u001b[36m0:00:00\u001b[0m\n",
            "\u001b[?25hCollecting simplejson (from rasterstats->tobler>=0.11.2->pysal)\n",
            "  Downloading simplejson-3.19.3-cp310-cp310-manylinux_2_5_x86_64.manylinux1_x86_64.manylinux_2_17_x86_64.manylinux2014_x86_64.whl.metadata (3.2 kB)\n",
            "Requirement already satisfied: patsy>=0.5.6 in /usr/local/lib/python3.10/dist-packages (from statsmodels->tobler>=0.11.2->pysal) (1.0.1)\n",
            "Requirement already satisfied: mpmath<1.4,>=1.1.0 in /usr/local/lib/python3.10/dist-packages (from sympy->quantecon>=0.4.7->giddy>=2.3.5->pysal) (1.3.0)\n",
            "Downloading pysal-24.7-py3-none-any.whl (17 kB)\n",
            "Downloading access-1.1.9-py3-none-any.whl (21 kB)\n",
            "Downloading inequality-1.0.1-py3-none-any.whl (15 kB)\n",
            "Downloading mgwr-2.2.1-py3-none-any.whl (47 kB)\n",
            "\u001b[2K   \u001b[90m━━━━━━━━━━━━━━━━━━━━━━━━━━━━━━━━━━━━━━━━\u001b[0m \u001b[32m47.9/47.9 kB\u001b[0m \u001b[31m3.3 MB/s\u001b[0m eta \u001b[36m0:00:00\u001b[0m\n",
            "\u001b[?25hDownloading momepy-0.8.1-py3-none-any.whl (347 kB)\n",
            "\u001b[2K   \u001b[90m━━━━━━━━━━━━━━━━━━━━━━━━━━━━━━━━━━━━━━━━\u001b[0m \u001b[32m347.4/347.4 kB\u001b[0m \u001b[31m24.7 MB/s\u001b[0m eta \u001b[36m0:00:00\u001b[0m\n",
            "\u001b[?25hDownloading pointpats-2.5.1-py3-none-any.whl (59 kB)\n",
            "\u001b[2K   \u001b[90m━━━━━━━━━━━━━━━━━━━━━━━━━━━━━━━━━━━━━━━━\u001b[0m \u001b[32m59.2/59.2 kB\u001b[0m \u001b[31m4.2 MB/s\u001b[0m eta \u001b[36m0:00:00\u001b[0m\n",
            "\u001b[?25hDownloading segregation-2.5.1-py3-none-any.whl (141 kB)\n",
            "\u001b[2K   \u001b[90m━━━━━━━━━━━━━━━━━━━━━━━━━━━━━━━━━━━━━━━━\u001b[0m \u001b[32m141.3/141.3 kB\u001b[0m \u001b[31m10.6 MB/s\u001b[0m eta \u001b[36m0:00:00\u001b[0m\n",
            "\u001b[?25hDownloading spaghetti-1.7.6-py3-none-any.whl (53 kB)\n",
            "\u001b[2K   \u001b[90m━━━━━━━━━━━━━━━━━━━━━━━━━━━━━━━━━━━━━━━━\u001b[0m \u001b[32m53.9/53.9 kB\u001b[0m \u001b[31m4.4 MB/s\u001b[0m eta \u001b[36m0:00:00\u001b[0m\n",
            "\u001b[?25hDownloading spglm-1.1.0-py3-none-any.whl (41 kB)\n",
            "\u001b[2K   \u001b[90m━━━━━━━━━━━━━━━━━━━━━━━━━━━━━━━━━━━━━━━━\u001b[0m \u001b[32m41.4/41.4 kB\u001b[0m \u001b[31m3.2 MB/s\u001b[0m eta \u001b[36m0:00:00\u001b[0m\n",
            "\u001b[?25hDownloading spopt-0.6.1-py3-none-any.whl (243 kB)\n",
            "\u001b[2K   \u001b[90m━━━━━━━━━━━━━━━━━━━━━━━━━━━━━━━━━━━━━━━━\u001b[0m \u001b[32m243.1/243.1 kB\u001b[0m \u001b[31m17.1 MB/s\u001b[0m eta \u001b[36m0:00:00\u001b[0m\n",
            "\u001b[?25hDownloading tobler-0.12.0-py3-none-any.whl (28 kB)\n",
            "Downloading PuLP-2.9.0-py3-none-any.whl (17.7 MB)\n",
            "\u001b[2K   \u001b[90m━━━━━━━━━━━━━━━━━━━━━━━━━━━━━━━━━━━━━━━━\u001b[0m \u001b[32m17.7/17.7 MB\u001b[0m \u001b[31m53.5 MB/s\u001b[0m eta \u001b[36m0:00:00\u001b[0m\n",
            "\u001b[?25hDownloading Rtree-1.3.0-py3-none-manylinux2014_x86_64.manylinux_2_17_x86_64.whl (543 kB)\n",
            "\u001b[2K   \u001b[90m━━━━━━━━━━━━━━━━━━━━━━━━━━━━━━━━━━━━━━━━\u001b[0m \u001b[32m543.2/543.2 kB\u001b[0m \u001b[31m29.1 MB/s\u001b[0m eta \u001b[36m0:00:00\u001b[0m\n",
            "\u001b[?25hDownloading deprecation-2.1.0-py2.py3-none-any.whl (11 kB)\n",
            "Downloading rasterstats-0.20.0-py3-none-any.whl (17 kB)\n",
            "Downloading fiona-1.10.1-cp310-cp310-manylinux_2_17_x86_64.manylinux2014_x86_64.whl (17.3 MB)\n",
            "\u001b[2K   \u001b[90m━━━━━━━━━━━━━━━━━━━━━━━━━━━━━━━━━━━━━━━━\u001b[0m \u001b[32m17.3/17.3 MB\u001b[0m \u001b[31m49.3 MB/s\u001b[0m eta \u001b[36m0:00:00\u001b[0m\n",
            "\u001b[?25hDownloading simplejson-3.19.3-cp310-cp310-manylinux_2_5_x86_64.manylinux1_x86_64.manylinux_2_17_x86_64.manylinux2014_x86_64.whl (137 kB)\n",
            "\u001b[2K   \u001b[90m━━━━━━━━━━━━━━━━━━━━━━━━━━━━━━━━━━━━━━━━\u001b[0m \u001b[32m137.9/137.9 kB\u001b[0m \u001b[31m8.2 MB/s\u001b[0m eta \u001b[36m0:00:00\u001b[0m\n",
            "\u001b[?25hBuilding wheels for collected packages: spint, spvcm\n",
            "  Building wheel for spint (setup.py) ... \u001b[?25l\u001b[?25hdone\n",
            "  Created wheel for spint: filename=spint-1.0.7-py3-none-any.whl size=31355 sha256=f07cc6ccdbc3f978e78b940d9436f2be0bd9e17c8bed49ee466b3e103abee0a2\n",
            "  Stored in directory: /root/.cache/pip/wheels/f6/1d/ab/81b0c9d17a778a97ec078147cb11901afdab420c4894dcfbc5\n",
            "  Building wheel for spvcm (setup.py) ... \u001b[?25l\u001b[?25hdone\n",
            "  Created wheel for spvcm: filename=spvcm-0.3.0-py3-none-any.whl size=5777184 sha256=08ede816d1c75136f4c7c7a84ab28c195519ee0e9f95b0a6c006c23b5e8efbc8\n",
            "  Stored in directory: /root/.cache/pip/wheels/1c/58/6f/debcb62c0a142a6615a65f23217209b543b478d309edfa4e2b\n",
            "Successfully built spint spvcm\n",
            "Installing collected packages: simplejson, rtree, pulp, deprecation, fiona, rasterstats, access, tobler, segregation, pointpats, momepy, inequality, spvcm, spglm, spaghetti, spopt, spint, mgwr, pysal\n",
            "Successfully installed access-1.1.9 deprecation-2.1.0 fiona-1.10.1 inequality-1.0.1 mgwr-2.2.1 momepy-0.8.1 pointpats-2.5.1 pulp-2.9.0 pysal-24.7 rasterstats-0.20.0 rtree-1.3.0 segregation-2.5.1 simplejson-3.19.3 spaghetti-1.7.6 spglm-1.1.0 spint-1.0.7 spopt-0.6.1 spvcm-0.3.0 tobler-0.12.0\n"
          ]
        }
      ],
      "source": [
        "!pip install rasterio\n",
        "!pip install geopandas\n",
        "!pip install libpysal\n",
        "!pip install esda\n",
        "!pip install shapely\n",
        "!pip install splot\n",
        "!pip install pysal\n"
      ]
    },
    {
      "cell_type": "markdown",
      "source": [
        "### 2. Carga de paquetes, conexión a carpeta de drive y carga de archivos base"
      ],
      "metadata": {
        "id": "FYkotoqIFCvr"
      }
    },
    {
      "cell_type": "code",
      "source": [
        "import geopandas as gpd\n",
        "import rasterio\n",
        "import numpy as np\n",
        "from rasterio.sample import sample_gen\n",
        "import libpysal as ps\n",
        "from esda.moran import Moran\n",
        "import matplotlib.pyplot as plt\n",
        "from shapely.geometry import Point\n",
        "from google.colab import drive\n",
        "\n",
        "# Montar Google Drive\n",
        "drive.mount('/content/drive')\n",
        "\n",
        "# Rutas de los archivos\n",
        "shapefile_path = '/content/drive/MyDrive/Curso_Ecologia_Paisaje_Ecoacustica/Muestreo.shp'\n",
        "raster_path = '/content/drive/MyDrive/Curso_Ecologia_Paisaje_Ecoacustica/NDVI.tif'\n"
      ],
      "metadata": {
        "id": "igUxDkvuFD72"
      },
      "execution_count": null,
      "outputs": []
    },
    {
      "cell_type": "markdown",
      "source": [
        "### 3. Carga de puntos de muestreo y capa de variable, realización del sampling\n",
        "En este caso, se va a usar el NDVI, sin embargo si en el shp original se cuenta con variables, éste código puede también ser adaptado. Si esto último es el caso, pasar directamente al 4to punto."
      ],
      "metadata": {
        "id": "JUSUWNULFN08"
      }
    },
    {
      "cell_type": "code",
      "source": [
        "# Carga de puntos de muestreo y raster NDVI\n",
        "puntos_muestreo = gpd.read_file(shapefile_path)\n",
        "# Verificación del CRS\n",
        "with rasterio.open(raster_path) as src:\n",
        "    raster_crs = src.crs\n",
        "puntos_muestreo = puntos_muestreo.to_crs(raster_crs)\n",
        "# Realizar el \"sampling\" de NDVI para cada punto\n",
        "with rasterio.open(raster_path) as src:\n",
        "    coords = [(geom.x, geom.y) for geom in puntos_muestreo.geometry]\n",
        "    sampled_values = [val[0] for val in src.sample(coords)]\n",
        "\n",
        "# Agregar los valores NDVI a los puntos de muestreo\n",
        "puntos_muestreo['NDVI'] = sampled_values\n",
        "\n",
        "# Filtrar puntos con valores NDVI válidos (descartar NaN o valores fuera de rango)\n",
        "puntos_muestreo = puntos_muestreo[~np.isnan(puntos_muestreo['NDVI'])]\n",
        "print(puntos_muestreo.head())"
      ],
      "metadata": {
        "id": "wb4XYKFOFNT0"
      },
      "execution_count": null,
      "outputs": []
    },
    {
      "cell_type": "markdown",
      "source": [
        "### 4. Creación de Matriz de Pesos espaciales basados en proximidad, y  cálculo de la I de Morán.\n",
        "\n",
        "En el anterior punto, se han creado datos a partir de un muestreo del NDVI basándonos en la ubicación de las grabadoras. Sin embargo, si ya se cuenta con datos preliminares, en el siguiente chunk se puede cambiar el nombre de NDVI por el de la columna con la información deseada."
      ],
      "metadata": {
        "id": "7SgxzF5GG4XB"
      }
    },
    {
      "cell_type": "code",
      "source": [
        "# Crear la matriz de pesos espaciales basada en la proximidad\n",
        "coordinates = np.array([(geom.x, geom.y) for geom in puntos_muestreo.geometry])\n",
        "weights = ps.weights.DistanceBand.from_array(coordinates, threshold=1000, binary=True)  # Distancia en metros\n",
        "\n",
        "# Calcular Moran's I para NDVI\n",
        "ndvi_values = puntos_muestreo['NDVI'].values\n",
        "moran = Moran(ndvi_values, weights)\n",
        "\n",
        "# Mostrar resultados\n",
        "print(f\"Moran's I: {moran.I}\")\n",
        "print(f\"P-value: {moran.p_sim}\")"
      ],
      "metadata": {
        "id": "0wxQ6_T6HJQ-"
      },
      "execution_count": null,
      "outputs": []
    },
    {
      "cell_type": "markdown",
      "source": [
        "### 5. Visualización de Clústers"
      ],
      "metadata": {
        "id": "f13IFy9mIftt"
      }
    },
    {
      "cell_type": "code",
      "source": [
        "# Visualizar clusters\n",
        "plt.figure(figsize=(10, 6))\n",
        "plt.scatter(puntos_muestreo.geometry.x, puntos_muestreo.geometry.y, c=puntos_muestreo['NDVI'], cmap='viridis', s=50)\n",
        "plt.colorbar(label=\"NDVI\")\n",
        "plt.title(\"Puntos de muestreo con valores de NDVI\")\n",
        "plt.xlabel(\"Coordenadas X\")\n",
        "plt.ylabel(\"Coordenadas Y\")\n",
        "plt.show()\n"
      ],
      "metadata": {
        "id": "3KPMkyivIh60"
      },
      "execution_count": null,
      "outputs": []
    },
    {
      "cell_type": "markdown",
      "source": [
        "## Lisa"
      ],
      "metadata": {
        "id": "G_jQTlSFRW3j"
      }
    },
    {
      "cell_type": "markdown",
      "source": [
        "### 1 Importe de librerías"
      ],
      "metadata": {
        "id": "7MBB-VfWRg8_"
      }
    },
    {
      "cell_type": "code",
      "source": [
        "#!pip install rasterio\n",
        "#!pip install geopandas\n",
        "#!pip install libpysal\n",
        "#!pip install esda\n",
        "#!pip install shapely\n",
        "#!pip install splot\n",
        "#!pip install pysal\n",
        "\n",
        "import geopandas as gpd\n",
        "import numpy as np\n",
        "import rasterio\n",
        "from rasterio.mask import mask\n",
        "import matplotlib.pyplot as plt\n",
        "from splot.esda import plot_local_autocorrelation\n",
        "from pysal.lib import weights\n",
        "from pysal.explore import esda\n",
        "from google.colab import drive"
      ],
      "metadata": {
        "id": "xts4pThVRfGv"
      },
      "execution_count": null,
      "outputs": []
    },
    {
      "cell_type": "markdown",
      "source": [
        "### 2 Conexión a Drive, carga de puntos de muestreo y capa de variable"
      ],
      "metadata": {
        "id": "mAI8V4OLSvG1"
      }
    },
    {
      "cell_type": "code",
      "source": [
        "# Montar Google Drive\n",
        "drive.mount('/content/drive')\n",
        "\n",
        "# Rutas de archivos\n",
        "puntos_filepath = '/content/drive/MyDrive/Curso_Ecologia_Paisaje_Ecoacustica/Muestreo.shp'\n",
        "raster_filepath = '/content/drive/MyDrive/Curso_Ecologia_Paisaje_Ecoacustica/NDVI.tif'\n",
        "\n",
        "# Cargar los puntos de muestreo\n",
        "puntos_muestreo = gpd.read_file(puntos_filepath)"
      ],
      "metadata": {
        "colab": {
          "base_uri": "https://localhost:8080/"
        },
        "id": "hYZboTGTS2dt",
        "outputId": "0dab959e-3b55-4936-ed88-2b6cc25f198f"
      },
      "execution_count": null,
      "outputs": [
        {
          "output_type": "stream",
          "name": "stdout",
          "text": [
            "Mounted at /content/drive\n"
          ]
        }
      ]
    },
    {
      "cell_type": "markdown",
      "source": [
        "### 3 Crear matriz de pesos espaciales, estandarización, cálculo de LISA"
      ],
      "metadata": {
        "id": "tEUpxS0jTFw5"
      }
    },
    {
      "cell_type": "code",
      "source": [
        "# Leer los valores de NDVI en los puntos de muestreo\n",
        "with rasterio.open(raster_filepath) as src:\n",
        "    puntos_muestreo['ndvi'] = [\n",
        "        next(src.sample([(point.x, point.y)]))[0] for point in puntos_muestreo.geometry\n",
        "    ]\n",
        "\n",
        "# Remover puntos con valores NDVI no válidos (e.g., nodata)\n",
        "puntos_muestreo = puntos_muestreo[~puntos_muestreo['ndvi'].isnull()]\n",
        "\n",
        "# Asegurar que la columna 'ndvi' es de tipo float64\n",
        "puntos_muestreo['ndvi'] = puntos_muestreo['ndvi'].astype(np.float64)\n",
        "\n",
        "# Crear una matriz de pesos espaciales basada en la vecindad de distancias (threshold 1000 metros)\n",
        "w = weights.DistanceBand.from_dataframe(puntos_muestreo, threshold=1000, binary=True, silence_warnings=True)\n",
        "\n",
        "# Estandarizar los pesos\n",
        "w.transform = 'R'\n",
        "\n",
        "# Calcular LISA (Local Moran's I)\n",
        "lisa = esda.Moran_Local(puntos_muestreo['ndvi'], w)\n",
        "\n",
        "# Agregar resultados de LISA al GeoDataFrame\n",
        "puntos_muestreo['lisa_cluster'] = lisa.q\n",
        "puntos_muestreo['lisa_pvalue'] = lisa.p_sim\n",
        "puntos_muestreo['lisa_Is'] = lisa.Is\n",
        "\n",
        "# Definir etiquetas para los clusters\n",
        "clusters = {\n",
        "    1: \"Alto-Alto\",\n",
        "    2: \"Bajo-Bajo\",\n",
        "    3: \"Alto-Bajo\",\n",
        "    4: \"Bajo-Alto\"\n",
        "}\n",
        "puntos_muestreo['cluster_label'] = puntos_muestreo['lisa_cluster'].map(clusters)\n"
      ],
      "metadata": {
        "id": "hnLZxh8RTjE3"
      },
      "execution_count": null,
      "outputs": []
    },
    {
      "cell_type": "markdown",
      "source": [
        "### 4 Resultados de LISA"
      ],
      "metadata": {
        "id": "nAcHhV0TT2zT"
      }
    },
    {
      "cell_type": "code",
      "source": [
        "import matplotlib.pyplot as plt\n",
        "import numpy as np\n",
        "import matplotlib.patches as mpatches\n",
        "\n",
        "# Definir colores y etiquetas para los clusters\n",
        "cluster_colors = {\n",
        "    1: 'red',    # Alto-Alto (HH)\n",
        "    2: 'blue',   # Bajo-Bajo (LL)\n",
        "    3: 'lightcoral',   # Alto-Bajo (HL)\n",
        "    4: 'cyan'    # Bajo-Alto (LH)\n",
        "}\n",
        "cluster_labels = {\n",
        "    1: \"HH (Alto-Alto)\",\n",
        "    2: \"LL (Bajo-Bajo)\",\n",
        "    3: \"HL (Alto-Bajo)\",\n",
        "    4: \"LH (Bajo-Alto)\"\n",
        "}\n",
        "\n",
        "# Mapear colores y etiquetas al GeoDataFrame\n",
        "puntos_muestreo['color'] = puntos_muestreo['lisa_cluster'].map(cluster_colors)\n",
        "puntos_muestreo['label'] = puntos_muestreo['lisa_cluster'].map(cluster_labels)\n",
        "\n",
        "# Visualización de los resultados\n",
        "fig, ax = plt.subplots(1, 1, figsize=(10, 10))\n",
        "\n",
        "# Graficar cada punto con su color y mostrar p-value en la leyenda\n",
        "for cluster, color in cluster_colors.items():\n",
        "    puntos_cluster = puntos_muestreo[puntos_muestreo['lisa_cluster'] == cluster]\n",
        "    puntos_cluster.plot(ax=ax, color=color, label=f\"{cluster_labels[cluster]} (p < 0.05)\" if (puntos_cluster['lisa_pvalue'] < 0.05).any() else cluster_labels[cluster])\n",
        "\n",
        "# Añadir leyenda descriptiva\n",
        "legend_patches = [mpatches.Patch(color=color, label=label) for label, color in cluster_colors.items()]\n",
        "ax.legend(handles=legend_patches, title=\"Clusters LISA\", loc=\"upper right\")\n",
        "\n",
        "plt.title(\"Clusters LISA de NDVI\")\n",
        "plt.show()\n",
        "\n",
        "# Mostrar tabla de resultados con los valores significativos de LISA en la consola\n",
        "import pandas as pd\n",
        "\n",
        "# Crear un DataFrame con los resultados clave de LISA\n",
        "resultados_lisa = puntos_muestreo[['Site', 'x', 'y', 'ndvi', 'lisa_cluster', 'lisa_Is', 'lisa_pvalue']].copy()\n",
        "\n",
        "# Ordenar por p-value para identificar los puntos más significativos\n",
        "resultados_lisa = resultados_lisa.sort_values(by='lisa_pvalue')\n",
        "\n",
        "# Mostrar la tabla en la consola\n",
        "pd.set_option('display.float_format', lambda x: f'{x:.4f}')  # Formato para floats\n",
        "print(resultados_lisa)\n",
        "\n"
      ],
      "metadata": {
        "colab": {
          "base_uri": "https://localhost:8080/",
          "height": 880
        },
        "id": "HTeR5AufT4Mq",
        "outputId": "22cf6a47-5e56-4452-d415-b184eaec348d"
      },
      "execution_count": null,
      "outputs": [
        {
          "output_type": "display_data",
          "data": {
            "text/plain": [
              "<Figure size 1000x1000 with 1 Axes>"
            ],
            "image/png": "[encoded data removed]"
          },
          "metadata": {}
        },
        {
          "output_type": "stream",
          "name": "stdout",
          "text": [
            "     Site           x           y   ndvi  lisa_cluster  lisa_Is  lisa_pvalue\n",
            "0   LEJ04 429899.6842 677320.9074 0.5264             3  -0.0000       0.0010\n",
            "5   LEM01 431318.0346 677235.8308 0.8052             4   0.0000       0.0010\n",
            "8   LEN02 432147.2843 676108.5796 0.7887             1   0.3477       0.1280\n",
            "1   LEJ05 429943.8166 676010.6121 0.7474             4  -0.1599       0.1420\n",
            "9   LEO01 432305.9755 676593.3259 0.7442             1   0.1368       0.2310\n",
            "7   LEM04 431597.9097 675734.1789 0.8211             1   0.1788       0.2350\n",
            "3   LEK06 430767.4967 675319.3453 0.7769             4  -0.1625       0.2690\n",
            "4   LEL03 430686.6332 675575.1785 0.7918             4  -0.1496       0.2970\n",
            "10  LEO02 432531.3177 676111.3834 0.8043             1   0.2846       0.3830\n",
            "2   LEK05 430465.1685 675670.3046 0.4863             2  -0.2382       0.4190\n",
            "6   LEM03 430984.0476 676131.8243 0.6184             3   0.0009       0.4350\n"
          ]
        }
      ]
    },
    {
      "cell_type": "code",
      "source": [
        "import matplotlib.pyplot as plt\n",
        "import numpy as np\n",
        "import matplotlib.patches as mpatches\n",
        "import pandas as pd\n",
        "import os\n",
        "from google.colab import drive\n",
        "\n",
        "# Montar Google Drive para almacenar el archivo Excel\n",
        "drive.mount('/content/drive')\n",
        "\n",
        "# Definir la ruta para guardar el archivo Excel\n",
        "main_folder_path = '/content/drive/MyDrive/Curso_Ecologia_Paisaje_Ecoacustica'\n",
        "results_folder_path = os.path.join(main_folder_path, \"Resultados\")\n",
        "os.makedirs(results_folder_path, exist_ok=True)\n",
        "excel_path = os.path.join(results_folder_path, 'resultados_lisa.xlsx')\n",
        "\n",
        "# Definir colores y etiquetas para los clusters\n",
        "cluster_colors = {\n",
        "    1: 'red',    # Alto-Alto (HH)\n",
        "    2: 'blue',   # Bajo-Bajo (LL)\n",
        "    3: 'lightcoral',   # Alto-Bajo (HL)\n",
        "    4: 'cyan'    # Bajo-Alto (LH)\n",
        "}\n",
        "cluster_labels = {\n",
        "    1: \"HH (Alto-Alto)\",\n",
        "    2: \"LL (Bajo-Bajo)\",\n",
        "    3: \"HL (Alto-Bajo)\",\n",
        "    4: \"LH (Bajo-Alto)\"\n",
        "}\n",
        "\n",
        "# Mapear colores y etiquetas al GeoDataFrame\n",
        "puntos_muestreo['color'] = puntos_muestreo['lisa_cluster'].map(cluster_colors)\n",
        "puntos_muestreo['label'] = puntos_muestreo['lisa_cluster'].map(cluster_labels)\n",
        "\n",
        "# Visualización de los resultados\n",
        "fig, ax = plt.subplots(1, 1, figsize=(10, 10))\n",
        "\n",
        "# Graficar cada punto con su color y agregar etiquetas de \"Site\"\n",
        "for idx, row in puntos_muestreo.iterrows():\n",
        "    ax.scatter(row['x'], row['y'], color=row['color'], s=50, label=row['label'] if idx == 0 else \"\")\n",
        "    ax.text(row['x'], row['y'], row['Site'], fontsize=9, ha='right', va='bottom')\n",
        "\n",
        "# Añadir leyenda descriptiva\n",
        "legend_patches = [mpatches.Patch(color=color, label=label) for label, color in cluster_colors.items()]\n",
        "ax.legend(handles=legend_patches, title=\"Clusters LISA\", loc=\"upper right\")\n",
        "\n",
        "plt.title(\"Clusters LISA de NDVI\")\n",
        "plt.xlabel(\"Coordenada X\")\n",
        "plt.ylabel(\"Coordenada Y\")\n",
        "plt.show()\n",
        "\n",
        "# Crear un DataFrame con los resultados clave de LISA y guardar en Excel\n",
        "resultados_lisa = puntos_muestreo[['Site', 'x', 'y', 'ndvi', 'lisa_cluster', 'lisa_Is', 'lisa_pvalue']].copy()\n",
        "resultados_lisa['Cluster_Label'] = resultados_lisa['lisa_cluster'].map(cluster_labels)\n",
        "\n",
        "# Ordenar por p-value para identificar los puntos más significativos\n",
        "resultados_lisa = resultados_lisa.sort_values(by='lisa_pvalue')\n",
        "\n",
        "# Guardar el DataFrame en un archivo Excel\n",
        "with pd.ExcelWriter(excel_path) as writer:\n",
        "    resultados_lisa.to_excel(writer, sheet_name='LISA Results', index=False)\n",
        "\n",
        "print(f\"Archivo Excel guardado en: {excel_path}\")\n"
      ],
      "metadata": {
        "colab": {
          "base_uri": "https://localhost:8080/",
          "height": 927
        },
        "id": "-Y-WlWtGDSc7",
        "outputId": "e83d7b71-b188-4331-dbb1-5ea3dae4c02d"
      },
      "execution_count": null,
      "outputs": [
        {
          "output_type": "stream",
          "name": "stdout",
          "text": [
            "Drive already mounted at /content/drive; to attempt to forcibly remount, call drive.mount(\"/content/drive\", force_remount=True).\n"
          ]
        },
        {
          "output_type": "display_data",
          "data": {
            "text/plain": [
              "<Figure size 1000x1000 with 1 Axes>"
            ],
            "image/png": "[encoded data removed]"
          },
          "metadata": {}
        },
        {
          "output_type": "stream",
          "name": "stdout",
          "text": [
            "Archivo Excel guardado en: /content/drive/MyDrive/Curso_Ecologia_Paisaje_Ecoacustica/Resultados/resultados_lisa.xlsx\n"
          ]
        }
      ]
    }
  ]
}