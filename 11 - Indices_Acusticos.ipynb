{
  "nbformat": 4,
  "nbformat_minor": 0,
  "metadata": {
    "colab": {
      "provenance": [],
      "toc_visible": true,
      "gpuType": "V28",
      "include_colab_link": true
    },
    "kernelspec": {
      "name": "python3",
      "display_name": "Python 3"
    },
    "language_info": {
      "name": "python"
    },
    "accelerator": "TPU"
  },
  "cells": [
    {
      "cell_type": "markdown",
      "metadata": {
        "id": "view-in-github",
        "colab_type": "text"
      },
      "source": [
        "<a href=\"https://colab.research.google.com/github/vmartinezarias/Curso_Ecologia_Paisaje_y-Ecoacustica/blob/main/11%20-%20Indices_Acusticos.ipynb\" target=\"_parent\"><img src=\"https://colab.research.google.com/assets/colab-badge.svg\" alt=\"Open In Colab\"/></a>"
      ]
    },
    {
      "cell_type": "markdown",
      "source": [
        "# CÁLCULO DE ÍNDICES ACÚSTICOS EMPLEANDO EL PAQUETE \"SCIKIT-MAAD\"\n"
      ],
      "metadata": {
        "id": "WyRVxFm4nHtI"
      }
    },
    {
      "cell_type": "markdown",
      "source": [
        "## Verificar poder de procesamiento"
      ],
      "metadata": {
        "id": "e3COz2nzx_Ik"
      }
    },
    {
      "cell_type": "code",
      "source": [
        "from psutil import cpu_count\n",
        "print(f\"Número de CPUs disponibles: {cpu_count(logical=True)}\")"
      ],
      "metadata": {
        "colab": {
          "base_uri": "https://localhost:8080/"
        },
        "id": "_7fD-5fiyDtL",
        "outputId": "c9b8c696-89b5-4a37-9b3c-cf91a901480c"
      },
      "execution_count": null,
      "outputs": [
        {
          "output_type": "stream",
          "name": "stdout",
          "text": [
            "Número de CPUs disponibles: 96\n"
          ]
        }
      ]
    },
    {
      "cell_type": "markdown",
      "source": [
        "## Instalación de librerías requeridas"
      ],
      "metadata": {
        "id": "z5hWDjsxxGBa"
      }
    },
    {
      "cell_type": "code",
      "source": [
        "!pip install scikit-maad\n",
        "!pip install openpyxl"
      ],
      "metadata": {
        "id": "F-R-7mJhxFqd"
      },
      "execution_count": null,
      "outputs": []
    },
    {
      "cell_type": "markdown",
      "source": [
        "## Carga de paquetes requeridos y acceso al drive"
      ],
      "metadata": {
        "id": "9Z59l1hZnNJg"
      }
    },
    {
      "cell_type": "code",
      "source": [
        "import os\n",
        "import numpy as np\n",
        "import pandas as pd\n",
        "from pathlib import Path\n",
        "from scipy import signal\n",
        "from maad import sound, features\n",
        "import torchaudio\n",
        "from tqdm import tqdm\n",
        "from google.colab import drive\n",
        "import warnings\n",
        "import concurrent.futures\n",
        "\n",
        "warnings.filterwarnings(\"ignore\")\n",
        "\n",
        "# Montar Google Drive\n",
        "drive.mount('/content/drive')"
      ],
      "metadata": {
        "colab": {
          "base_uri": "https://localhost:8080/"
        },
        "id": "Go6DDFnRnQGs",
        "outputId": "afc12640-5753-49ca-ac6b-48c949f766e9"
      },
      "execution_count": null,
      "outputs": [
        {
          "output_type": "stream",
          "name": "stdout",
          "text": [
            "Drive already mounted at /content/drive; to attempt to forcibly remount, call drive.mount(\"/content/drive\", force_remount=True).\n"
          ]
        }
      ]
    },
    {
      "cell_type": "markdown",
      "source": [
        "## Definir parámetros de entrada"
      ],
      "metadata": {
        "id": "Nw2r_s0vyGTz"
      }
    },
    {
      "cell_type": "code",
      "execution_count": null,
      "metadata": {
        "colab": {
          "base_uri": "https://localhost:8080/"
        },
        "id": "moWsi329emty",
        "outputId": "d3d23bd7-0f93-43dc-9ee1-522920e22711"
      },
      "outputs": [
        {
          "output_type": "stream",
          "name": "stdout",
          "text": [
            "Directorio ya existente: /content/drive/MyDrive/Curso_Ecologia_Paisaje_Ecoacustica/Indices_acusticos\n"
          ]
        }
      ],
      "source": [
        "# Parámetros de entrada\n",
        "BASE_PATH = \"/content/drive/MyDrive/Curso_Ecologia_Paisaje_Ecoacustica/Audios_SinLluvia\"  # Ruta base\n",
        "OUTPUT_DIR = \"/content/drive/MyDrive/Curso_Ecologia_Paisaje_Ecoacustica/Indices_acusticos\"  # Directorio de salida\n",
        "OUTPUT_FILE = f\"{OUTPUT_DIR}/IndicesAcusticos0-12_5-15.xlsx\"  # Archivo de salida\n",
        "WORKERS = os.cpu_count() - 2  # Número de procesadores a utilizar\n",
        "\n",
        "# Crear la carpeta de salida si no existe\n",
        "if not os.path.exists(OUTPUT_DIR):\n",
        "    os.makedirs(OUTPUT_DIR)\n",
        "    print(f\"Directorio creado: {OUTPUT_DIR}\")\n",
        "else:\n",
        "    print(f\"Directorio ya existente: {OUTPUT_DIR}\")\n",
        "\n",
        "\n"
      ]
    },
    {
      "cell_type": "markdown",
      "source": [
        "## Definir parámetros para índices acústicos\n",
        "\n",
        "\n",
        "**Window_Size** (Tamaño de ventana):\n",
        "El tamaño de ventana (como WINDOW_SIZE = 512) determina cuántos puntos de la señal se analizan en cada segmento al calcular un espectrograma con la Transformada Rápida de Fourier (FFT). Es clave porque afecta la resolución temporal y espectral del análisis.\n",
        "\n",
        "Tamaños pequeños (e.g., 256 puntos): Ofrecen mejor resolución temporal, lo que permite capturar eventos rápidos en el tiempo, pero sacrifican precisión en la frecuencia (bandas más amplias).\n",
        "Tamaños grandes (e.g., 1024 puntos): Mejoran la resolución espectral, lo que permite identificar frecuencias específicas con mayor precisión, pero sacrifican detalles temporales, dificultando la captura de eventos breves.\n",
        "Un tamaño de 512 puntos es común, equilibrando la capacidad de capturar eventos en tiempo y frecuencia. En combinación con el solapamiento, permite mantener continuidad entre ventanas consecutivas y obtener un espectrograma más detallado y suave.\n",
        "\n",
        "\n",
        "**Overlap** (sobrelapamiento): El solapamiento (overlap) es la cantidad de datos compartidos entre ventanas consecutivas de una señal al calcular su espectrograma mediante la Transformada Rápida de Fourier (FFT). Esto implica que, al dividir una señal en ventanas de un tamaño específico (por ejemplo, 512 puntos), una nueva ventana comienza antes de que termine la anterior, permitiendo que se superpongan. Esto ayuda a capturar transiciones rápidas y mejora la continuidad temporal en el análisis. Por ejemplo, con un solapamiento del 50% y una ventana de 1024 puntos, la segunda ventana comenzará en el punto 512 de la primera y continuará superponiéndose.\n",
        "\n",
        "El solapamiento es útil porque mejora la resolución temporal, reduce la pérdida de información entre ventanas y genera espectrogramas más suaves visualmente.\n",
        "\n",
        "Solapamiento bajo (< 50%): Puede ser útil si quieres reducir el tiempo de cómputo o si los eventos son lentos.\n",
        "Solapamiento alto (> 75%): Ideal para señales con cambios rápidos en el tiempo, pero aumenta el costo computacional.\n",
        "Solapamiento medio (50%): Es una configuración estándar que equilibra bien entre resolución temporal y computación (David Luna, com.pers).\n",
        "\n",
        "\n",
        "**NFFT** (Puntos FFT):\n",
        "El número de puntos FFT determina cuántos puntos se calculan en la Transformada Rápida de Fourier (FFT) para cada ventana. Esto afecta directamente la resolución en el dominio de la frecuencia:\n",
        "\n",
        "Valores pequeños (e.g., 256): Proporcionan menos precisión en las frecuencias (bandas más amplias), pero son más rápidos de calcular.\n",
        "Valores grandes (e.g., 1024): Ofrecen mayor resolución en frecuencia, dividiendo el espectro en bandas más estrechas, pero requieren más cómputo.\n",
        "Un valor de NFFT = 512 es común porque equilibra la precisión en la frecuencia con la eficiencia computacional. Normalmente se elige igual al tamaño de la ventana (WINDOW_SIZE) para mantener coherencia en el análisis.\n",
        "\n",
        "**J_CLUSTER** (El número de clusters para el ACI temporal)\n",
        "Define cómo se divide la señal en bloques de tiempo al calcular el Índice de Complejidad Acústica (ACI) temporal.\n",
        "\n",
        "Cada cluster representa un segmento de tiempo sobre el cual se evalúan los cambios en la energía de las frecuencias. Este valor afecta la granularidad del análisis temporal:\n",
        "\n",
        "Valores bajos (ej., 2-5): Agrupan más datos en cada cluster, lo que suaviza el análisis temporal y detecta tendencias generales.\n",
        "\n",
        "Valores altos (ej., >10): Aumentan la sensibilidad a cambios rápidos en la señal, capturando eventos más pequeños o transitorios."
      ],
      "metadata": {
        "id": "2CbcXGa6nrCI"
      }
    },
    {
      "cell_type": "code",
      "source": [
        "# Parámetros para índices acústicos\n",
        "DEFAULT_FMIN = 0  # Frecuencia mínima por defecto\n",
        "DEFAULT_FMAX = 15000  # Frecuencia máxima por defecto, en Hz\n",
        "BIOPHONY_BAND = (2000, 12000)  # Banda bioacústica para BI y NDSI\n",
        "ANTHROPHONY_BAND = (0, 2000)  # Banda tecnofónica para NDSI\n",
        "WINDOW_SIZE = 512  # Tamaño de la ventana para espectrograma\n",
        "NFFT = 512  # Número de puntos FFT\n",
        "OVERLAP = 0  # Solapamiento\n",
        "J_CLUSTER = 5  # Número de clusters para ACI temporal\n"
      ],
      "metadata": {
        "id": "6b1oqhXgyOSV"
      },
      "execution_count": null,
      "outputs": []
    },
    {
      "cell_type": "markdown",
      "source": [
        "## Cálculo de los índices acústicos"
      ],
      "metadata": {
        "id": "uI9Y57anzQQV"
      }
    },
    {
      "cell_type": "code",
      "source": [
        "# Función para el cálculo de índices\n",
        "def calculate_H(audio, Fs, s, f, fmin, fmax):\n",
        "    \"\"\"Calcula Hf, Ht y H total.\"\"\"\n",
        "    # Ht: Entropía temporal\n",
        "    hilbert_env = np.abs(signal.hilbert(audio[0, :]))\n",
        "    env_prob = hilbert_env / hilbert_env.sum()\n",
        "    Ht = -np.sum(env_prob * np.log2(env_prob + 1e-10)) / np.log2(len(env_prob))\n",
        "\n",
        "    # Hf: Entropía espectral\n",
        "    freq_limits = np.logical_and(f >= fmin, f <= fmax)\n",
        "    s_band = s[freq_limits, :].sum(axis=1)\n",
        "    s_band = s_band / np.sum(s_band + 1e-10)\n",
        "    Hf = -np.sum(s_band * np.log2(s_band + 1e-10)) / np.log2(len(s_band))\n",
        "\n",
        "    # H total\n",
        "    H_total = Ht * Hf\n",
        "    return Ht, Hf, H_total\n",
        "\n",
        "def get_indices(file_path, fmin, fmax):\n",
        "    \"\"\"Procesa un archivo de audio y calcula los índices acústicos.\"\"\"\n",
        "    try:\n",
        "        audio, fs = torchaudio.load(file_path)\n",
        "        f, t, s = signal.spectrogram(audio[0, :], fs, nperseg=WINDOW_SIZE, noverlap=OVERLAP, nfft=NFFT)\n",
        "\n",
        "        # Índices acústicos\n",
        "        ACItf_val = ACItf(audio[0, :], fs, J_CLUSTER, fmin, fmax, s, f)\n",
        "        ACIft_val = ACIft(s, f, fmin, fmax)\n",
        "        BI_val = features.bioacoustics_index(s, f, flim=BIOPHONY_BAND)\n",
        "        NP_val = number_of_peaks(s, f, fmin, fmax)\n",
        "        Ht_val, Hf_val, H_val = calculate_H(audio, fs, s, f, fmin, fmax)\n",
        "        NDSI_val = features.soundscape_index(s, f, flim_bioPh=BIOPHONY_BAND, flim_antroPh=ANTHROPHONY_BAND)[0]\n",
        "\n",
        "        # Resultado para cada archivo\n",
        "        return [file_path.name, file_path.parent.name, ACItf_val, ACIft_val, BI_val, NP_val, Ht_val, Hf_val, H_val, NDSI_val]\n",
        "    except Exception as e:\n",
        "        print(f\"Error processing {file_path}: {e}\")\n",
        "        return [file_path.name, file_path.parent.name] + [np.nan] * 8\n",
        "\n",
        "# Procesamiento en paralelo\n",
        "if __name__ == \"__main__\":\n",
        "    path = Path(BASE_PATH)\n",
        "    files = list(path.rglob(\"*.[wW][aA][vV]\"))\n",
        "    print(f\"Number of files: {len(files)}\")\n",
        "\n",
        "    with concurrent.futures.ProcessPoolExecutor(max_workers=WORKERS) as executor:\n",
        "        results = list(tqdm(executor.map(get_indices, files, [DEFAULT_FMIN]*len(files), [DEFAULT_FMAX]*len(files)),\n",
        "                            total=len(files), desc=\"Processing files\"))\n",
        "\n",
        "    # Crear DataFrame y guardar en Excel\n",
        "    df = pd.DataFrame(results, columns=[\"Name\", \"Folder\", \"ACItf\", \"ACIft\", \"BI\", \"NP\", \"Ht\", \"Hf\", \"H\", \"NDSI\"])\n",
        "    df.to_excel(OUTPUT_FILE, index=False)\n",
        "    print(f\"Results saved to: {OUTPUT_FILE}\")"
      ],
      "metadata": {
        "id": "_vJEKA6HzSaJ"
      },
      "execution_count": null,
      "outputs": []
    },
    {
      "cell_type": "markdown",
      "source": [
        "# GRÁFICA DE LOS ÍNDICES ACÚSTICOS"
      ],
      "metadata": {
        "id": "QEgZQ3gu8MTv"
      }
    },
    {
      "cell_type": "markdown",
      "source": [
        "## Cargar librerías requeridas y el data rame"
      ],
      "metadata": {
        "id": "wK5AylM7Ebkm"
      }
    },
    {
      "cell_type": "code",
      "source": [
        "import pandas as pd\n",
        "import numpy as np\n",
        "import os\n",
        "import matplotlib.pyplot as plt\n",
        "\n",
        "# Ruta del archivo de entrada en Google Drive\n",
        "input_file = \"/content/drive/MyDrive/Curso_Ecologia_Paisaje_Ecoacustica/Indices_acusticos/IndicesAcusticos0-12.xlsx\"\n",
        "\n",
        "# Ruta para guardar el archivo de salida\n",
        "output_folder = \"/content/drive/MyDrive/Curso_Ecologia_Paisaje_Ecoacustica/Indices_acusticos\"\n",
        "output_file = os.path.join(output_folder, \"IndicesPromedioPorHora0-12kHz.xlsx\") #cambiar el nombre del archivo de salida!!!\n",
        "\n",
        "# Crear la carpeta de salida si no existe\n",
        "os.makedirs(output_folder, exist_ok=True)\n",
        "\n",
        "# Leer directamente el archivo Excel en un DataFrame\n",
        "datos = pd.read_excel(input_file)"
      ],
      "metadata": {
        "id": "iGhf1ZcuEeq3"
      },
      "execution_count": null,
      "outputs": []
    },
    {
      "cell_type": "markdown",
      "source": [
        "## Generar archivo para gráficos"
      ],
      "metadata": {
        "id": "hvjJXX6eEmwQ"
      }
    },
    {
      "cell_type": "code",
      "source": [
        "PuntosMuestreo = datos['Folder'].unique()\n",
        "\n",
        "# Crear el DataFrame para almacenar los resultados\n",
        "IndicesPromedioHora = pd.DataFrame(columns=['PuntoMuestreo', 'Hora', 'ACItf', 'ACIft', 'BI', 'NP', 'Ht','Hf','H', 'NDSI'])\n",
        "\n",
        "# Calcular y guardar los resultados para cada punto de muestreo\n",
        "for PuntoMuestreo in PuntosMuestreo:\n",
        "    # Filtrar los datos por punto de muestreo\n",
        "    subset = datos[datos['Folder'] == PuntoMuestreo]\n",
        "\n",
        "    # Extraer la hora del nombre del archivo y calcular los valores promedio por hora para cada índice\n",
        "    indices = ['ACItf', 'ACIft', 'BI', 'NP', 'Ht','Hf','H', 'NDSI']\n",
        "\n",
        "    for i in range(24):  # Iterar sobre cada hora\n",
        "        # Filtrar los datos correspondientes a la hora i\n",
        "        subset_hora = subset[subset['Name'].str.contains(f'_{i:02}')]\n",
        "\n",
        "        fila = {'PuntoMuestreo': PuntoMuestreo, 'Hora': i}\n",
        "\n",
        "        for indice in indices:\n",
        "            if not subset_hora.empty:\n",
        "                promedio = subset_hora[indice].mean()\n",
        "            else:\n",
        "                promedio = np.nan  # Asignar NaN si no hay datos para esa hora\n",
        "            fila[indice] = promedio\n",
        "\n",
        "        # Añadir la fila al DataFrame de manera eficiente\n",
        "        IndicesPromedioHora = pd.concat([IndicesPromedioHora, pd.DataFrame([fila])], ignore_index=True)\n",
        "\n",
        "# Guardar el DataFrame en el archivo Excel\n",
        "IndicesPromedioHora.to_excel(output_file, index=False)\n",
        "\n",
        "print(f\"Archivo de resultados guardado en: {output_file}\")\n"
      ],
      "metadata": {
        "id": "rHkbNpH-CtQV"
      },
      "execution_count": null,
      "outputs": []
    },
    {
      "cell_type": "markdown",
      "source": [
        "## OPCIÓN 1: DESCARGAR EL CÓDIGO (R) Y EJECUTAR EL SHINY EN UN R LOCAL\n",
        "Se debe tener el xlsx generado en el paso anterior"
      ],
      "metadata": {
        "id": "4LSaiYLWFWCB"
      }
    },
    {
      "cell_type": "code",
      "source": [
        "#### ESTO ES UN CÓDIGO DE R!!!!!\n",
        "# REQUIERE INSTALAR PREVIAMENTE LAS LIBRERÍAS QUE SE CARGAN\n",
        "\n",
        "library(shiny)\n",
        "library(ggplot2)\n",
        "library(readxl)\n",
        "\n",
        "# Definir la UI\n",
        "ui <- fluidPage(\n",
        "  titlePanel(\"Visualización de Índices\"),\n",
        "  sidebarLayout(\n",
        "    sidebarPanel(\n",
        "      fileInput(\"archivo\", \"Cargar archivo Excel\", accept = c(\".xlsx\")),  # Botón para cargar archivo\n",
        "      uiOutput(\"puntos_ui\"),  # Menú dinámico para Puntos de Muestreo\n",
        "      uiOutput(\"indice_ui\")   # Menú dinámico para Índices\n",
        "    ),\n",
        "    mainPanel(\n",
        "      plotOutput(\"indicePlot\")  # Salida del gráfico\n",
        "    )\n",
        "  )\n",
        ")\n",
        "\n",
        "# Definir el servidor\n",
        "server <- function(input, output, session) {\n",
        "\n",
        "  # Leer el archivo cargado\n",
        "  datos <- reactive({\n",
        "    req(input$archivo)  # Requiere que se haya cargado un archivo\n",
        "    read_excel(input$archivo$datapath)  # Leer el archivo cargado\n",
        "  })\n",
        "\n",
        "  # Generar el menú dinámico para Puntos de Muestreo\n",
        "  output$puntos_ui <- renderUI({\n",
        "    req(datos())  # Requiere que los datos estén cargados\n",
        "    selectInput(\"puntoMuestreo\", \"Puntos de Muestreo:\",\n",
        "                choices = unique(datos()$PuntoMuestreo),\n",
        "                selected = unique(datos()$PuntoMuestreo)[1],\n",
        "                multiple = TRUE)\n",
        "  })\n",
        "\n",
        "  # Generar el menú dinámico para Índices\n",
        "  output$indice_ui <- renderUI({\n",
        "    req(datos())  # Requiere que los datos estén cargados\n",
        "    selectInput(\"indice\", \"Índice:\",\n",
        "                choices = colnames(datos())[3:ncol(datos())],\n",
        "                selected = colnames(datos())[3])\n",
        "  })\n",
        "\n",
        "  # Crear el gráfico\n",
        "  output$indicePlot <- renderPlot({\n",
        "    req(input$puntoMuestreo, input$indice)  # Asegura que los inputs estén disponibles\n",
        "    datos_filtrados <- datos()[datos()$PuntoMuestreo %in% input$puntoMuestreo, ]\n",
        "    ggplot(datos_filtrados, aes_string(x = 'Hora', y = input$indice, color = 'PuntoMuestreo')) +\n",
        "      geom_line() +\n",
        "      labs(x = 'Hora', y = input$indice, title = paste(input$indice, \"por Punto de Muestreo\")) +\n",
        "      theme_minimal() +\n",
        "      theme(legend.title = element_blank())\n",
        "  })\n",
        "}\n",
        "\n",
        "# Ejecutar la aplicación\n",
        "shinyApp(ui = ui, server = server)"
      ],
      "metadata": {
        "id": "C2z6eQ6OFbIk"
      },
      "execution_count": null,
      "outputs": []
    },
    {
      "cell_type": "markdown",
      "source": [
        "## OPCIÓN 2: PROCÉSELO EN LÍNEA\n",
        "Esta opción es temporal (hasta 20251231), se avisará en el repositorio cuándo deje de funcionar.\n",
        "\n",
        "Ingrese a este link: https://vmartinezarias.shinyapps.io/indexvisualization/"
      ],
      "metadata": {
        "id": "9uzGCYrsK-zz"
      }
    }
  ]
}