{
  "cells": [
    {
      "cell_type": "markdown",
      "metadata": {
        "id": "view-in-github",
        "colab_type": "text"
      },
      "source": [
        "<a href=\"https://colab.research.google.com/github/vmartinezarias/Curso_Ecologia_Paisaje_y-Ecoacustica/blob/main/4_Fragmentacion_metricas_paisaje.ipynb\" target=\"_parent\"><img src=\"https://colab.research.google.com/assets/colab-badge.svg\" alt=\"Open In Colab\"/></a>"
      ]
    },
    {
      "cell_type": "markdown",
      "metadata": {
        "id": "BiLbXRzd_j49"
      },
      "source": [
        "En este script se toma un ráster de coberturas obtenido de Dynamic world, y se emplea el paquete pylandstats para generar las métricas de fragmentación.\n",
        "\n",
        "Información sobre las métricas pueden ser encontradas en: https://fragstats.org/index.php/fragstats-metrics/patch-based-metrics\n",
        "\n",
        "Información del paquete pylandstats: https://pylandstats.readthedocs.io/en/latest/index.html\n",
        "\n",
        "Como resultado, se obtiene un archivo xlsx con las métricas calculadas a nivel de parche, clase y paisaje."
      ]
    },
    {
      "cell_type": "markdown",
      "metadata": {
        "id": "uRxYCqey_nCQ"
      },
      "source": [
        "\n",
        "# 1. Instalar los paquetes necesarios en Colab"
      ]
    },
    {
      "cell_type": "code",
      "source": [
        "!pip install rasterio\n",
        "!pip install matplotlib\n",
        "!pip install pylandstats\n",
        "!pip install pandas\n",
        "!pip install openpyxl"
      ],
      "metadata": {
        "id": "aTuvsjFJCCmU"
      },
      "execution_count": null,
      "outputs": []
    },
    {
      "cell_type": "markdown",
      "metadata": {
        "id": "OlnP3K-f_shJ"
      },
      "source": [
        "# 2. Importar bibliotecas necesarias"
      ]
    },
    {
      "cell_type": "code",
      "execution_count": 2,
      "metadata": {
        "id": "I0LOpzlU_wFc"
      },
      "outputs": [],
      "source": [
        "import rasterio\n",
        "import matplotlib.pyplot as plt\n",
        "import pylandstats as pls\n",
        "import pandas as pd\n",
        "from google.colab import drive"
      ]
    },
    {
      "cell_type": "markdown",
      "metadata": {
        "id": "7l-zV6Sv_2hl"
      },
      "source": [
        "# 3. Montar Google Drive para acceder al archivo de coberturas .tif"
      ]
    },
    {
      "cell_type": "code",
      "execution_count": null,
      "metadata": {
        "id": "i1ZBABz1_4dq"
      },
      "outputs": [],
      "source": [
        "drive.mount('/content/drive')"
      ]
    },
    {
      "cell_type": "markdown",
      "metadata": {
        "id": "ZYlOkkAhABN0"
      },
      "source": [
        "# 4. Definir la ruta del archivo .tif en Google Drive\n"
      ]
    },
    {
      "cell_type": "code",
      "execution_count": 4,
      "metadata": {
        "id": "ewCO3RjWACZn"
      },
      "outputs": [],
      "source": [
        "input_filepath = '/content/drive/MyDrive/Curso_Ecologia_Paisaje_Ecoacustica/Coberturas_DW.tif'  # Ajusta esta ruta según la ubicación real en Drive\n"
      ]
    },
    {
      "cell_type": "markdown",
      "metadata": {
        "id": "6TG6euR-AS8s"
      },
      "source": [
        "# 5. Cargar el archivo usando pylandstats\n"
      ]
    },
    {
      "cell_type": "code",
      "execution_count": 6,
      "metadata": {
        "id": "t1X2WQrUAU5M"
      },
      "outputs": [],
      "source": [
        "ls = pls.Landscape(input_filepath, nodata=-9999)\n"
      ]
    },
    {
      "cell_type": "markdown",
      "metadata": {
        "id": "9Ovne8FiBwGo"
      },
      "source": [
        "# 6. Leer y graficar el archivo .tif con rasterio\n"
      ]
    },
    {
      "cell_type": "code",
      "execution_count": null,
      "metadata": {
        "collapsed": true,
        "id": "bonj4JqGB0dC",
        "jupyter": {
          "outputs_hidden": true
        }
      },
      "outputs": [],
      "source": [
        "with rasterio.open(input_filepath) as src:\n",
        "    image = src.read(1)  # Lee la primera banda del archivo .tif\n",
        "plt.figure(figsize=(10, 10))\n",
        "plt.imshow(image, cmap='viridis')  # Puedes cambiar el colormap según tus preferencias\n",
        "plt.colorbar(label=\"Valores de pixel\")\n",
        "plt.title(\"Visualización del archivo .tif\")\n",
        "plt.xlabel(\"Coordenadas X\")\n",
        "plt.ylabel(\"Coordenadas Y\")\n",
        "plt.show()"
      ]
    },
    {
      "cell_type": "markdown",
      "metadata": {
        "id": "b-bZbmBmCX9H"
      },
      "source": [
        "# 7. Diccionario para mapear los valores de clase a sus nombres de coberturas\n",
        "Se debe adaptar dependiendo de si se usa otro tipo de insumo"
      ]
    },
    {
      "cell_type": "code",
      "execution_count": 8,
      "metadata": {
        "id": "VPaiz06ZCbDB"
      },
      "outputs": [],
      "source": [
        "class_names = {\n",
        "    0: \"agua\",\n",
        "    1: \"árboles\",\n",
        "    2: \"pastos\",\n",
        "    3: \"vegetación_inundada\",\n",
        "    4: \"cultivos\",\n",
        "    5: \"matorral_y_arbustos\",\n",
        "    6: \"construido\",\n",
        "    7: \"desnudo\",\n",
        "    8: \"nieve_y_hielo\"\n",
        "}"
      ]
    },
    {
      "cell_type": "markdown",
      "metadata": {
        "id": "t4mcJz1jCdC8"
      },
      "source": [
        "# 8. Calcular métricas de parches y limpiar NaN\n"
      ]
    },
    {
      "cell_type": "code",
      "execution_count": null,
      "metadata": {
        "id": "HOtSnJ51ChL3"
      },
      "outputs": [],
      "source": [
        "patch_metrics_df = ls.compute_patch_metrics_df()\n",
        "patch_metrics_df_clean = patch_metrics_df.dropna()\n",
        "patch_metrics_df_clean['class_name'] = patch_metrics_df_clean['class_val'].map(class_names)\n",
        "print(patch_metrics_df_clean)"
      ]
    },
    {
      "cell_type": "markdown",
      "metadata": {
        "id": "V2-fSWCmCj6k"
      },
      "source": [
        "# 9. Verificar clases con menos de x número de parches\n",
        "\n",
        "Se puede adaptar esta parte para identificar clases con x número de parches\n"
      ]
    },
    {
      "cell_type": "code",
      "execution_count": null,
      "metadata": {
        "id": "0quYQkBKCkfV"
      },
      "outputs": [],
      "source": [
        "\n",
        "if patch_metrics_df_clean.empty:\n",
        "    print(\"Error: El DataFrame 'patch_metrics_df_clean' está vacío.\")\n",
        "else:\n",
        "\n",
        "    print(\"Columnas de patch_metrics_df_clean:\", list(patch_metrics_df_clean.columns))\n",
        "\n",
        "\n",
        "    if 'class_name' in patch_metrics_df_clean.columns:\n",
        "        print(\"La columna 'class_name' fue encontrada en el DataFrame.\")\n",
        "\n",
        "\n",
        "        classes_with_few_patches = patch_metrics_df_clean['class_name'].value_counts()\n",
        "\n",
        "\n",
        "        print(\"Conteo de ocurrencias por clase:\")\n",
        "        print(classes_with_few_patches)\n",
        "\n",
        "\n",
        "        few_patch_classes = classes_with_few_patches[classes_with_few_patches < 8]  # Cambiar el límite aquí si es necesario\n",
        "\n",
        "        print(\"Clases con menos de cinco parches:\")\n",
        "        print(few_patch_classes)\n",
        "    else:\n",
        "        print(\"Error: La columna 'class_name' no existe en el DataFrame 'patch_metrics_df_clean'.\")\n",
        "\n",
        "\n"
      ]
    },
    {
      "cell_type": "markdown",
      "metadata": {
        "id": "hb3cKHzHC1XL"
      },
      "source": [
        "# 10. Calcular métricas de clase y limpiar NaN"
      ]
    },
    {
      "cell_type": "code",
      "execution_count": null,
      "metadata": {
        "id": "JWaA3gJCC2Hv"
      },
      "outputs": [],
      "source": [
        "class_metrics_df = ls.compute_class_metrics_df()\n",
        "class_metrics_df_clean = class_metrics_df.dropna().reset_index()\n",
        "class_metrics_df_clean['class_name'] = class_metrics_df_clean['class_val'].map(class_names)\n",
        "print(class_metrics_df_clean)"
      ]
    },
    {
      "cell_type": "markdown",
      "metadata": {
        "id": "mXr6Ai8mC-6d"
      },
      "source": [
        "# 11. Calcular métricas de paisaje\n"
      ]
    },
    {
      "cell_type": "code",
      "execution_count": null,
      "metadata": {
        "collapsed": true,
        "id": "Q7F66SSjC_bW",
        "jupyter": {
          "outputs_hidden": true
        }
      },
      "outputs": [],
      "source": [
        "landscape_metrics_df = ls.compute_landscape_metrics_df()\n",
        "landscape_metrics_df\n",
        "print(landscape_metrics_df)"
      ]
    },
    {
      "cell_type": "markdown",
      "metadata": {
        "id": "i0qv0f_VDQxB"
      },
      "source": [
        "# 12. Exportar los resultados a un archivo Excel en Google Drive\n"
      ]
    },
    {
      "cell_type": "code",
      "execution_count": null,
      "metadata": {
        "id": "q6F1-JcEDUji"
      },
      "outputs": [],
      "source": [
        "import os\n",
        "import pandas as pd\n",
        "\n",
        "# Ruta de la carpeta principal y la subcarpeta \"Resultados\"\n",
        "main_folder_path = '/content/drive/MyDrive/Curso_Ecologia_Paisaje_Ecoacustica'\n",
        "results_folder_path = os.path.join(main_folder_path, \"Resultados\")\n",
        "if not os.path.exists(results_folder_path):\n",
        "    os.makedirs(results_folder_path)\n",
        "    print(f\"Subcarpeta 'Resultados' creada en {results_folder_path}\")\n",
        "else:\n",
        "    print(\"La subcarpeta 'Resultados' ya existe.\")\n",
        "\n",
        "excel_path = os.path.join(results_folder_path, 'landscape_metrics.xlsx')\n",
        "\n",
        "# Guardar los DataFrames en el archivo Excel con diferentes hojas\n",
        "with pd.ExcelWriter(excel_path) as writer:\n",
        "    patch_metrics_df_clean.to_excel(writer, sheet_name='Métricas de parche', index=False)\n",
        "    class_metrics_df_clean.to_excel(writer, sheet_name='Métricas de clase', index=False)\n",
        "    landscape_metrics_df.to_excel(writer, sheet_name='Métricas de Paisaje', index=False)\n",
        "\n",
        "print(f\"Archivo Excel guardado en: {excel_path}\")\n"
      ]
    }
  ],
  "metadata": {
    "colab": {
      "provenance": [],
      "toc_visible": true,
      "include_colab_link": true
    },
    "kernelspec": {
      "display_name": "Python 3 (ipykernel)",
      "language": "python",
      "name": "python3"
    },
    "language_info": {
      "codemirror_mode": {
        "name": "ipython",
        "version": 3
      },
      "file_extension": ".py",
      "mimetype": "text/x-python",
      "name": "python",
      "nbconvert_exporter": "python",
      "pygments_lexer": "ipython3",
      "version": "3.12.6"
    }
  },
  "nbformat": 4,
  "nbformat_minor": 0
}
